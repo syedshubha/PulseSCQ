{
 "cells": [
  {
   "cell_type": "code",
   "execution_count": 1,
   "id": "8c101c60",
   "metadata": {},
   "outputs": [
    {
     "name": "stdout",
     "output_type": "stream",
     "text": [
      "Note: you may need to restart the kernel to use updated packages.\n"
     ]
    }
   ],
   "source": [
    "%pip install --quiet qutip qutip-qip qiskit qiskit-aer pylatexenc pandas seaborn &> /dev/null"
   ]
  },
  {
   "cell_type": "code",
   "execution_count": 1,
   "id": "607f25bb",
   "metadata": {},
   "outputs": [],
   "source": [
    "import qutip as qt\n",
    "from qutip import Qobj\n",
    "from qiskit import QuantumCircuit, QuantumRegister\n",
    "from qutip_qip.circuit import QubitCircuit\n",
    "from qutip_qip.operations import *\n",
    "from qiskit.quantum_info import Operator, process_fidelity, Choi, Operator, DensityMatrix, Kraus, SuperOp, Pauli\n",
    "\n",
    "import pandas as pd\n",
    "import numpy as np\n",
    "from scipy.linalg import polar, logm\n",
    "from scipy.optimize import minimize\n",
    "import matplotlib.pyplot as plt\n",
    "from itertools import product"
   ]
  },
  {
   "cell_type": "code",
   "execution_count": 2,
   "id": "97f11551",
   "metadata": {},
   "outputs": [],
   "source": [
    "sx, sy, sz = qt.sigmax(), qt.sigmay(), qt.sigmaz()\n",
    "I = qt.qeye(2)\n",
    "\n",
    "paulis = [I, sx, sy, sz]\n",
    "pauli_labels = ['I', 'X', 'Y', 'Z']"
   ]
  },
  {
   "cell_type": "code",
   "execution_count": 3,
   "id": "0e883685",
   "metadata": {},
   "outputs": [],
   "source": [
    "def pulse_shape(shape=\"cos\", A=1.0, delta=0.0, sigma=0.1, alpha=0.5, chirp_rate=0.0):\n",
    "\n",
    "    if shape == \"cos\":\n",
    "        return lambda t, args: A * np.cos(delta * t)\n",
    "\n",
    "    elif shape == \"gaussian\":\n",
    "        return lambda t, args: A * np.exp(-((t - 0.5)**2) / (2 * sigma**2))\n",
    "\n",
    "    elif shape == \"square\":\n",
    "        return lambda t, args: A if 0.3 <= t <= 0.7 else 0.0\n",
    "\n",
    "    elif shape == \"chirp\":\n",
    "        return lambda t, args: A * np.cos((delta + chirp_rate * t) * t)\n",
    "\n",
    "    elif shape == \"drag\":\n",
    "        return lambda t, args: A * (np.exp(-((t - 0.5)**2)/(2 * sigma**2))\n",
    "                                   - alpha * (t - 0.5) / sigma**2 * np.exp(-((t - 0.5)**2)/(2 * sigma**2)))\n",
    "\n",
    "    else:\n",
    "        raise ValueError(f\"Unknown pulse shape: {shape}\")\n"
   ]
  },
  {
   "cell_type": "code",
   "execution_count": 4,
   "id": "ecdce064",
   "metadata": {},
   "outputs": [],
   "source": [
    "def apply_eve_multi_attack(state_pre, J12=0.1, J01=0.1, A=(1.0, 1.0),\n",
    "                            delta=(0.0, 0.0), coup_12=(qt.sigmaz(), qt.sigmax()),\n",
    "                            coup_01=(qt.sigmax(), qt.sigmax()),\n",
    "                            shape=(\"cos\", \"cos\"),\n",
    "                            extra_params=({}, {})):\n",
    "    A0, A1 = A\n",
    "    delta0, delta1 = delta\n",
    "    s1_12, s2_12 = coup_12\n",
    "    s0_01, s1_01 = coup_01\n",
    "    shape0, shape1 = shape\n",
    "    kwargs0, kwargs1 = extra_params\n",
    "\n",
    "    I = qt.qeye(2)\n",
    "\n",
    "    # Coupling terms\n",
    "    H_couple_12 = J12 * qt.tensor(I, s1_12, s2_12)\n",
    "    H_couple_01 = J01 * qt.tensor(s0_01, s1_01, I)\n",
    "\n",
    "    # Time-dependent drive terms\n",
    "    coeff0 = pulse_shape(shape=shape0, A=A0, delta=delta0, **kwargs0)\n",
    "    coeff1 = pulse_shape(shape=shape1, A=A1, delta=delta1, **kwargs1)\n",
    "\n",
    "    H_p0 = [qt.tensor(qt.sigmax(), I, I), coeff0]\n",
    "    H_p1 = [qt.tensor(I, qt.sigmax(), I), coeff1]\n",
    "\n",
    "    H = [H_couple_12, H_couple_01, H_p0, H_p1]\n",
    "\n",
    "    t_attack = np.linspace(0, 1.0, 50)\n",
    "    sol = qt.mesolve(H, state_pre, t_attack, [], [])\n",
    "    return sol.states[-1]\n"
   ]
  },
  {
   "cell_type": "code",
   "execution_count": 5,
   "id": "08f69093",
   "metadata": {},
   "outputs": [],
   "source": [
    "def prepare_input_states():\n",
    "    return [\n",
    "        qt.basis(2, 0),  # |0⟩\n",
    "        qt.basis(2, 1),  # |1⟩\n",
    "        (qt.basis(2, 0) + qt.basis(2, 1)).unit(),  # |+⟩\n",
    "        (qt.basis(2, 0) + 1j * qt.basis(2, 1)).unit()  # |+i⟩\n",
    "    ]"
   ]
  },
  {
   "cell_type": "code",
   "execution_count": 6,
   "id": "3f909fa3",
   "metadata": {},
   "outputs": [],
   "source": [
    "def apply_eve_process_on_q2(input_state,\n",
    "                            J12=0.1, J01=0.1,\n",
    "                            A=(1.0, 1.0),\n",
    "                            delta=(0.0, 0.0),\n",
    "                            coup_12=(qt.sigmaz(), qt.sigmax()),\n",
    "                            coup_01=(qt.sigmax(), qt.sigmax()),\n",
    "                            shape=(\"cos\", \"cos\"),\n",
    "                            extra_params=({}, {})):\n",
    "    full_state = qt.tensor(qt.basis(2, 0), qt.basis(2, 0), input_state)\n",
    "    final_state = apply_eve_multi_attack(\n",
    "        state_pre=full_state,\n",
    "        J12=J12,\n",
    "        J01=J01,\n",
    "        A=A,\n",
    "        delta=delta,\n",
    "        coup_12=coup_12,\n",
    "        coup_01=coup_01,\n",
    "        shape=shape,\n",
    "        extra_params=extra_params\n",
    "    )\n",
    "    return final_state.ptrace(2)"
   ]
  },
  {
   "cell_type": "code",
   "execution_count": 7,
   "id": "29cf45db",
   "metadata": {},
   "outputs": [],
   "source": [
    "def perform_qpt(J12=0.2, J01=0.1, A=(1.0, 1.0), delta=(0.0, 0.0),\n",
    "                coup_12=(qt.sigmaz(), qt.sigmax()), coup_01=(qt.sigmax(), qt.sigmax()),\n",
    "                shape=(\"cos\", \"cos\"), extra_params=({}, {})):\n",
    "\n",
    "    paulis = [qt.qeye(2), qt.sigmax(), qt.sigmay(), qt.sigmaz()]\n",
    "    labels = [\"I\", \"X\", \"Y\", \"Z\"]\n",
    "    N = len(paulis)\n",
    "    chi = np.zeros((N, N), dtype=complex) \n",
    "\n",
    "    input_states = prepare_input_states()\n",
    "    output_states = [\n",
    "        apply_eve_process_on_q2(psi,\n",
    "                                J12=J12, J01=J01, A=A,\n",
    "                                delta=delta,\n",
    "                                coup_12=coup_12, coup_01=coup_01,\n",
    "                                shape=shape,\n",
    "                                extra_params=extra_params)\n",
    "        for psi in input_states\n",
    "    ]\n",
    "\n",
    "    for m, Em in enumerate(paulis):\n",
    "        for n, En in enumerate(paulis):\n",
    "            acc = 0.0\n",
    "            for i, psi_in in enumerate(input_states):\n",
    "                rho_in = psi_in * psi_in.dag()\n",
    "                term = (Em * rho_in * En.dag())\n",
    "                acc += (term * output_states[i]).tr()\n",
    "            chi[m, n] = acc / 2.0  # normalization\n",
    "\n",
    "    return qt.Qobj(chi), labels\n"
   ]
  },
  {
   "cell_type": "code",
   "execution_count": 8,
   "id": "d7adfe7e",
   "metadata": {},
   "outputs": [],
   "source": [
    "# Extract Kraus operators from the chi matrix\n",
    "def kraus_operators_from_chi(chiqobj):\n",
    "    chi = chiqobj.full()\n",
    "    eigvals, eigvecs = np.linalg.eigh(chi)\n",
    "    kraus_ops = []\n",
    "    for i in range(len(eigvals)):\n",
    "        if np.abs(eigvals[i]) > 1e-6:\n",
    "            kraus_matrix = sum(\n",
    "                eigvecs[j, i] * paulis[j] for j in range(4)\n",
    "            )\n",
    "            kraus_ops.append(np.sqrt(eigvals[i]) * kraus_matrix)\n",
    "    return kraus_ops"
   ]
  },
  {
   "cell_type": "code",
   "execution_count": 9,
   "id": "ce716e1c",
   "metadata": {},
   "outputs": [],
   "source": [
    "def U_theta(theta):\n",
    "    return ry(theta)\n",
    "\n",
    "def build_theoretical_kraus(theta):\n",
    "    return [\n",
    "        (1/2) * qt.qeye(2),\n",
    "        (1/2) * U_theta(-theta) * qt.sigmax() * U_theta(theta),\n",
    "        (1/2) * qt.sigmax(),\n",
    "        (1/2) * U_theta(-theta) * qt.sigmax() * U_theta(theta) * qt.sigmax()\n",
    "    ]"
   ]
  },
  {
   "cell_type": "code",
   "execution_count": 10,
   "id": "48ae71ab",
   "metadata": {},
   "outputs": [],
   "source": [
    "def fit_isometry(theoretical_kraus):\n",
    "    def isometry_loss(flat_u):\n",
    "        U_iso = flat_u.reshape((4,4))\n",
    "        transformed_kraus = [\n",
    "            sum(U_iso[i, j] * polar_U[j] @ polar_P[j] for j in range(4))\n",
    "            for i in range(4)\n",
    "        ]\n",
    "        loss = sum(np.linalg.norm(transformed_kraus[i] - theoretical_kraus[i].full())**2\n",
    "                   for i in range(4))\n",
    "        return loss\n",
    "\n",
    "    # Explicit constraint\n",
    "    def unitary_constraint(flat_u):\n",
    "        U_iso = flat_u.reshape((4,4))\n",
    "        return np.linalg.norm(U_iso @ U_iso.conj().T - np.eye(4))\n",
    "\n",
    "    init_guess = np.eye(4).flatten()\n",
    "    constraints = [{\n",
    "        'type': 'eq',\n",
    "        'fun': unitary_constraint\n",
    "    }]\n",
    "\n",
    "    result = minimize(isometry_loss, init_guess, method='SLSQP', constraints=constraints, options={'ftol': 1e-8, 'maxiter': 1000})\n",
    "\n",
    "    final_loss = isometry_loss(result.x)\n",
    "    return final_loss, result.x.reshape((4,4)), unitary_constraint(result.x)\n"
   ]
  },
  {
   "cell_type": "code",
   "execution_count": null,
   "id": "8d3b6805",
   "metadata": {},
   "outputs": [],
   "source": []
  }
 ],
 "metadata": {
  "kernelspec": {
   "display_name": "qiskit-env",
   "language": "python",
   "name": "qiskit-env"
  },
  "language_info": {
   "codemirror_mode": {
    "name": "ipython",
    "version": 3
   },
   "file_extension": ".py",
   "mimetype": "text/x-python",
   "name": "python",
   "nbconvert_exporter": "python",
   "pygments_lexer": "ipython3",
   "version": "3.13.3"
  }
 },
 "nbformat": 4,
 "nbformat_minor": 5
}
