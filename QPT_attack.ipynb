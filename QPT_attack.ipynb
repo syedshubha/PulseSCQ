{
  "nbformat": 4,
  "nbformat_minor": 0,
  "metadata": {
    "colab": {
      "provenance": [],
      "authorship_tag": "ABX9TyNwGnn05ACyOjcIBOtCnEtr",
      "include_colab_link": true
    },
    "kernelspec": {
      "name": "python3",
      "display_name": "Python 3"
    },
    "language_info": {
      "name": "python"
    }
  },
  "cells": [
    {
      "cell_type": "markdown",
      "metadata": {
        "id": "view-in-github",
        "colab_type": "text"
      },
      "source": [
        "<a href=\"https://colab.research.google.com/github/syedshubha/PulseSCQ/blob/main/QPT_attack.ipynb\" target=\"_parent\"><img src=\"https://colab.research.google.com/assets/colab-badge.svg\" alt=\"Open In Colab\"/></a>"
      ]
    },
    {
      "cell_type": "code",
      "execution_count": 1,
      "metadata": {
        "id": "x8tChw1LpNRy"
      },
      "outputs": [],
      "source": [
        "%pip install --quiet qutip qutip-qip qiskit qiskit-aer pylatexenc &> /dev/null"
      ]
    },
    {
      "cell_type": "code",
      "source": [
        "import qutip as qt\n",
        "from qutip import Qobj\n",
        "from qiskit import QuantumCircuit, QuantumRegister\n",
        "from qutip_qip.circuit import QubitCircuit\n",
        "from qutip_qip.operations import Gate, gate_sequence_product\n",
        "from qiskit.quantum_info import Operator, process_fidelity, Choi, Operator, DensityMatrix, Kraus, SuperOp, Pauli\n",
        "\n",
        "\n",
        "import numpy as np\n",
        "from scipy.linalg import polar, logm\n",
        "from scipy.optimize import minimize\n",
        "import matplotlib.pyplot as plt\n",
        "from itertools import product\n",
        "import pandas as pd"
      ],
      "metadata": {
        "id": "qoojCPv2pdKw"
      },
      "execution_count": 25,
      "outputs": []
    },
    {
      "cell_type": "markdown",
      "source": [
        "#No Pulse Attack"
      ],
      "metadata": {
        "id": "Y7gBLqSFt-uK"
      }
    },
    {
      "cell_type": "code",
      "source": [
        "theta_vals = np.linspace(0, np.pi, 100)\n",
        "\n",
        "theory = []\n",
        "for theta in theta_vals:\n",
        "    # Prepare input state: cos(θ)|0⟩ + sin(θ)|1⟩\n",
        "    state_init = (np.cos(theta) * qt.basis(2, 0) + np.sin(theta) * qt.basis(2, 1)).unit()\n",
        "\n",
        "    # Projector onto |1⟩\n",
        "    P_1 = qt.basis(2, 1) * qt.basis(2, 1).dag()\n",
        "\n",
        "    # Probability of measuring |1⟩\n",
        "    prob_1 = qt.expect(P_1, state_init)\n",
        "    theory.append(prob_1)"
      ],
      "metadata": {
        "id": "CaAwKb6xpyPT"
      },
      "execution_count": 3,
      "outputs": []
    },
    {
      "cell_type": "code",
      "source": [
        "def plotting(theta, fun1, fun2=None):\n",
        "  plt.figure(figsize=(8, 5))\n",
        "  if fun2 is None:\n",
        "    A= \"No Attack\"\n",
        "  else:\n",
        "    A = \"pulse attack\"\n",
        "    plt.plot(theta / np.pi, fun2, label='No Attack', color='blue')\n",
        "  plt.plot(theta / np.pi, fun1, label=A, color='red')\n",
        "  plt.xlabel(r\"Input State Rotation Angle $\\theta/\\pi$\")\n",
        "  plt.ylabel(r'Probability of measuring $|1\\rangle$')\n",
        "  plt.title(r'$\\langle 1 | \\psi_\\theta \\rangle^2$ vs $\\theta$')\n",
        "  plt.grid(True)\n",
        "  plt.legend()\n",
        "  plt.tight_layout()\n",
        "  plt.show()"
      ],
      "metadata": {
        "id": "lU9SHleTH_lN"
      },
      "execution_count": 4,
      "outputs": []
    },
    {
      "cell_type": "markdown",
      "source": [
        "# Pulse Attack"
      ],
      "metadata": {
        "id": "L8Lc8tyLw6K1"
      }
    },
    {
      "cell_type": "code",
      "source": [
        "sx, sy, sz = qt.sigmax(), qt.sigmay(), qt.sigmaz()\n",
        "I = qt.qeye(2)\n",
        "\n",
        "paulis = [I, sx, sy, sz]\n",
        "pauli_labels = ['I', 'X', 'Y', 'Z']"
      ],
      "metadata": {
        "id": "sYoTFuw8vkUk"
      },
      "execution_count": 5,
      "outputs": []
    },
    {
      "cell_type": "code",
      "source": [
        "def build_adam_state(theta):\n",
        "    psi_theta = (np.cos(theta) * qt.basis(2, 0) + np.sin(theta) * qt.basis(2, 1)).unit()\n",
        "    zero = qt.basis(2, 0)\n",
        "    return qt.tensor(zero, zero, psi_theta)"
      ],
      "metadata": {
        "id": "3F-0p6Gym_eO"
      },
      "execution_count": 6,
      "outputs": []
    },
    {
      "cell_type": "code",
      "source": [
        "def pulse_shape(shape=\"cos\", A=1.0, delta=0.0, sigma=0.1, alpha=0.5, chirp_rate=0.0):\n",
        "\n",
        "    if shape == \"cos\":\n",
        "        return lambda t, args: A * np.cos(delta * t)\n",
        "\n",
        "    elif shape == \"gaussian\":\n",
        "        return lambda t, args: A * np.exp(-((t - 0.5)**2) / (2 * sigma**2))\n",
        "\n",
        "    elif shape == \"square\":\n",
        "        return lambda t, args: A if 0.3 <= t <= 0.7 else 0.0\n",
        "\n",
        "    elif shape == \"chirp\":\n",
        "        return lambda t, args: A * np.cos((delta + chirp_rate * t) * t)\n",
        "\n",
        "    elif shape == \"drag\":\n",
        "        return lambda t, args: A * (np.exp(-((t - 0.5)**2)/(2 * sigma**2))\n",
        "                                   - alpha * (t - 0.5) / sigma**2 * np.exp(-((t - 0.5)**2)/(2 * sigma**2)))\n",
        "\n",
        "    else:\n",
        "        raise ValueError(f\"Unknown pulse shape: {shape}\")\n"
      ],
      "metadata": {
        "id": "-U1pzQI70EkH"
      },
      "execution_count": 7,
      "outputs": []
    },
    {
      "cell_type": "code",
      "source": [
        "def apply_eve_multi_attack(state_pre, J12=0.1, J01=0.1, A=(1.0, 1.0),\n",
        "                            delta=(0.0, 0.0), coup_12=(qt.sigmaz(), qt.sigmax()),\n",
        "                            coup_01=(qt.sigmax(), qt.sigmax()),\n",
        "                            shape=(\"cos\", \"cos\"),\n",
        "                            extra_params=({}, {})):\n",
        "    A0, A1 = A\n",
        "    delta0, delta1 = delta\n",
        "    s1_12, s2_12 = coup_12\n",
        "    s0_01, s1_01 = coup_01\n",
        "    shape0, shape1 = shape\n",
        "    kwargs0, kwargs1 = extra_params\n",
        "\n",
        "    I = qt.qeye(2)\n",
        "\n",
        "    # Coupling terms\n",
        "    H_couple_12 = J12 * qt.tensor(I, s1_12, s2_12)\n",
        "    H_couple_01 = J01 * qt.tensor(s0_01, s1_01, I)\n",
        "\n",
        "    # Time-dependent drive terms\n",
        "    coeff0 = pulse_shape(shape=shape0, A=A0, delta=delta0, **kwargs0)\n",
        "    coeff1 = pulse_shape(shape=shape1, A=A1, delta=delta1, **kwargs1)\n",
        "\n",
        "    H_p0 = [qt.tensor(qt.sigmax(), I, I), coeff0]\n",
        "    H_p1 = [qt.tensor(I, qt.sigmax(), I), coeff1]\n",
        "\n",
        "    H = [H_couple_12, H_couple_01, H_p0, H_p1]\n",
        "\n",
        "    t_attack = np.linspace(0, 1.0, 50)\n",
        "    sol = qt.mesolve(H, state_pre, t_attack, [], [])\n",
        "    return sol.states[-1]\n"
      ],
      "metadata": {
        "id": "gsK7B29gvljA"
      },
      "execution_count": 8,
      "outputs": []
    },
    {
      "cell_type": "code",
      "source": [
        "def measure_with_eve(theta_vals, J12=0.1, J01=0.1, A=(1.0, 1.0),\n",
        "                     delta=(0.0, 0.0), coup_12=(qt.sigmaz(), qt.sigmax()),\n",
        "                     coup_01=(qt.sigmax(), qt.sigmax()),\n",
        "                     shape=(\"cos\", \"cos\"), extra_params=({}, {})):\n",
        "    probs_attack = []\n",
        "    for theta in theta_vals:\n",
        "        state_init = build_adam_state(theta)\n",
        "        state_post = apply_eve_multi_attack(\n",
        "            state_init,\n",
        "            J12=J12, J01=J01,\n",
        "            A=A, delta=delta,\n",
        "            coup_12=coup_12, coup_01=coup_01,\n",
        "            shape=shape, extra_params=extra_params\n",
        "        )\n",
        "        state_q2 = state_post.ptrace(2)\n",
        "        P_1 = qt.basis(2, 1) * qt.basis(2, 1).dag()\n",
        "        prob_1 = qt.expect(P_1, state_q2)\n",
        "        probs_attack.append(prob_1)\n",
        "    return probs_attack"
      ],
      "metadata": {
        "id": "frADLdH6wsPn"
      },
      "execution_count": 9,
      "outputs": []
    },
    {
      "cell_type": "code",
      "source": [
        "probs_eve = measure_with_eve(theta_vals,\n",
        "                             J12=0.2,\n",
        "                             J01=0.1,\n",
        "                             A=(1.0, 0.5),\n",
        "                             delta=(0.0, 0.0),\n",
        "                             coup_12=(qt.sigmaz(), qt.sigmax()),\n",
        "                             coup_01=(qt.sigmax(), qt.sigmay()))\n",
        "\n",
        "plotting(theta_vals, probs_eve, theory)"
      ],
      "metadata": {
        "colab": {
          "base_uri": "https://localhost:8080/",
          "height": 540
        },
        "id": "mDrJvuF9wzGX",
        "outputId": "4596e7a3-cb2a-4bb9-b280-56dd24bfbaa8"
      },
      "execution_count": 10,
      "outputs": [
        {
          "output_type": "stream",
          "name": "stderr",
          "text": [
            "/usr/local/lib/python3.11/dist-packages/qutip/solver/solver_base.py:576: FutureWarning: e_ops will be keyword only from qutip 5.3 for all solver\n",
            "  warnings.warn(\n"
          ]
        },
        {
          "output_type": "display_data",
          "data": {
            "text/plain": [
              "<Figure size 800x500 with 1 Axes>"
            ],
            "image/png": "[encoded data removed]"
          },
          "metadata": {}
        }
      ]
    },
    {
      "cell_type": "markdown",
      "source": [
        "#Finding Dominant Crosstalk Terms"
      ],
      "metadata": {
        "id": "byDvySjq4mU7"
      }
    },
    {
      "cell_type": "code",
      "source": [
        "def scan_coupling_and_pulse_effects(theta_vals, pulse_shapes, J12=0.2, J01=0.1, A=(1.0, 1.0), delta=(0.0, 0.0)):\n",
        "    paulis = {'I': qt.qeye(2), 'X': qt.sigmax(), 'Y': qt.sigmay(), 'Z': qt.sigmaz()}\n",
        "    results = []\n",
        "\n",
        "    for k1, k2 in product(paulis.keys(), repeat=2):\n",
        "        coup_01 = (paulis[k1], paulis[k2])\n",
        "        for shape in pulse_shapes:\n",
        "            # Only q1 is attacked: zero amplitude for q0\n",
        "            probs_q1_only = measure_with_eve(\n",
        "                theta_vals, J12=J12, J01=J01, A=(0.0, A[1]),\n",
        "                delta=delta, coup_01=coup_01,\n",
        "                shape=(shape, shape),\n",
        "                extra_params=({}, {})\n",
        "            )\n",
        "\n",
        "            # Both q0 and q1 are attacked\n",
        "            probs_q0_q1 = measure_with_eve(\n",
        "                theta_vals, J12=J12, J01=J01, A=A,\n",
        "                delta=delta, coup_01=coup_01,\n",
        "                shape=(shape, shape),\n",
        "                extra_params=({}, {})\n",
        "            )\n",
        "\n",
        "            diff_norm = np.linalg.norm(np.array(probs_q0_q1) - np.array(probs_q1_only))\n",
        "            results.append((f\"{k1}⊗{k2}\", shape, diff_norm))\n",
        "\n",
        "    return pd.DataFrame(results, columns=[\"Coupling Type (q0⊗q1)\", \"Pulse Shape\", \"||Δ|| (Influence)\"]).sort_values(\n",
        "        by=\"||Δ|| (Influence)\", ascending=False).reset_index(drop=True)\n"
      ],
      "metadata": {
        "id": "DrDh6QMVKQUK"
      },
      "execution_count": 11,
      "outputs": []
    },
    {
      "cell_type": "code",
      "source": [
        "J12=0.2\n",
        "J01=0.1\n",
        "pulse_shapes = [\"cos\", \"square\", \"gaussian\", \"chirp\", \"drag\"]\n",
        "\n",
        "df_pulse_coupling = scan_coupling_and_pulse_effects(theta_vals, pulse_shapes, J12, J01)\n",
        "print(df_pulse_coupling.head(10)) #top 10"
      ],
      "metadata": {
        "colab": {
          "base_uri": "https://localhost:8080/",
          "height": 0
        },
        "id": "XwwwP38kssAP",
        "outputId": "2a33e61e-847a-401a-fcad-4d1f6496ad52"
      },
      "execution_count": 12,
      "outputs": [
        {
          "output_type": "stream",
          "name": "stdout",
          "text": [
            "  Coupling Type (q0⊗q1) Pulse Shape  ||Δ|| (Influence)\n",
            "0                   Y⊗X       chirp           0.010840\n",
            "1                   Y⊗X         cos           0.010840\n",
            "2                   Z⊗X       chirp           0.007278\n",
            "3                   Z⊗X         cos           0.007278\n",
            "4                   Y⊗X      square           0.003672\n",
            "5                   Y⊗X        drag           0.002667\n",
            "6                   Y⊗X    gaussian           0.001610\n",
            "7                   Z⊗X        drag           0.001380\n",
            "8                   Z⊗X      square           0.001221\n",
            "9                   Z⊗X    gaussian           0.000353\n"
          ]
        }
      ]
    },
    {
      "cell_type": "markdown",
      "source": [
        "# Quantum Process Tomography"
      ],
      "metadata": {
        "id": "d9kLdiXfanah"
      }
    },
    {
      "cell_type": "code",
      "source": [
        "def prepare_input_states():\n",
        "    return [\n",
        "        qt.basis(2, 0),  # |0⟩\n",
        "        qt.basis(2, 1),  # |1⟩\n",
        "        (qt.basis(2, 0) + qt.basis(2, 1)).unit(),  # |+⟩\n",
        "        (qt.basis(2, 0) + 1j * qt.basis(2, 1)).unit()  # |+i⟩\n",
        "    ]"
      ],
      "metadata": {
        "id": "CHmNZ4XIamhK"
      },
      "execution_count": 13,
      "outputs": []
    },
    {
      "cell_type": "code",
      "source": [
        "def apply_eve_process_on_q2(input_state,\n",
        "                            J12=0.1, J01=0.1,\n",
        "                            A=(1.0, 1.0),\n",
        "                            delta=(0.0, 0.0),\n",
        "                            coup_12=(qt.sigmaz(), qt.sigmax()),\n",
        "                            coup_01=(qt.sigmax(), qt.sigmax()),\n",
        "                            shape=(\"cos\", \"cos\"),\n",
        "                            extra_params=({}, {})):\n",
        "    full_state = qt.tensor(qt.basis(2, 0), qt.basis(2, 0), input_state)\n",
        "    final_state = apply_eve_multi_attack(\n",
        "        state_pre=full_state,\n",
        "        J12=J12,\n",
        "        J01=J01,\n",
        "        A=A,\n",
        "        delta=delta,\n",
        "        coup_12=coup_12,\n",
        "        coup_01=coup_01,\n",
        "        shape=shape,\n",
        "        extra_params=extra_params\n",
        "    )\n",
        "    return final_state.ptrace(2)"
      ],
      "metadata": {
        "id": "3nVp9A2LnIuV"
      },
      "execution_count": 14,
      "outputs": []
    },
    {
      "cell_type": "code",
      "source": [
        "def perform_qpt(J12=0.2, J01=0.1, A=(1.0, 1.0), delta=(0.0, 0.0),\n",
        "                coup_12=(qt.sigmaz(), qt.sigmax()), coup_01=(qt.sigmax(), qt.sigmax()),\n",
        "                shape=(\"cos\", \"cos\"), extra_params=({}, {})):\n",
        "\n",
        "    paulis = [qt.qeye(2), qt.sigmax(), qt.sigmay(), qt.sigmaz()]\n",
        "    labels = [\"I\", \"X\", \"Y\", \"Z\"]\n",
        "    N = len(paulis)\n",
        "    chi = np.zeros((N, N), dtype=complex)\n",
        "\n",
        "    input_states = prepare_input_states()\n",
        "    output_states = [\n",
        "        apply_eve_process_on_q2(psi,\n",
        "                                J12=J12, J01=J01, A=A,\n",
        "                                delta=delta,\n",
        "                                coup_12=coup_12, coup_01=coup_01,\n",
        "                                shape=shape,\n",
        "                                extra_params=extra_params)\n",
        "        for psi in input_states\n",
        "    ]\n",
        "\n",
        "    for m, Em in enumerate(paulis):\n",
        "        for n, En in enumerate(paulis):\n",
        "            acc = 0.0\n",
        "            for i, psi_in in enumerate(input_states):\n",
        "                rho_in = psi_in * psi_in.dag()\n",
        "                term = (Em * rho_in * En.dag())\n",
        "                acc += (term * output_states[i]).tr()\n",
        "            chi[m, n] = acc / 2.0  # normalization\n",
        "\n",
        "    return qt.Qobj(chi), labels\n"
      ],
      "metadata": {
        "id": "QCKUxsP1nJgl"
      },
      "execution_count": 15,
      "outputs": []
    },
    {
      "cell_type": "code",
      "source": [
        "def plot_chi_matrix(chi_matrix, title='Chi Matrix'):\n",
        "    fig, ax = plt.subplots(figsize=(6, 5))\n",
        "    cax = ax.matshow(np.abs(chi_matrix), cmap='viridis')\n",
        "    fig.colorbar(cax)\n",
        "    ax.set_xticks(range(4))\n",
        "    ax.set_yticks(range(4))\n",
        "    ax.set_xticklabels(pauli_labels)\n",
        "    ax.set_yticklabels(pauli_labels)\n",
        "    plt.title(title)\n",
        "    plt.xlabel('n')\n",
        "    plt.ylabel('m')\n",
        "    plt.tight_layout()\n",
        "    plt.show()"
      ],
      "metadata": {
        "id": "KgShd_dja_Ul"
      },
      "execution_count": 16,
      "outputs": []
    },
    {
      "cell_type": "code",
      "source": [
        "chi, label = perform_qpt(\n",
        "    J12=0.2,\n",
        "    J01=0.1,\n",
        "    A=(1.0, 0.5),\n",
        "    delta=(0.0, 0.0),\n",
        "    coup_12=(qt.sigmaz(), qt.sigmax()),\n",
        "    coup_01=(qt.sigmay(), qt.sigmax()),\n",
        "    shape=(\"cos\", \"chirp\"),\n",
        "    extra_params=({}, {\"chirp_rate\": 5.0})\n",
        ")\n",
        "\n",
        "from qiskit.visualization import array_to_latex as show\n",
        "show(chi.full())"
      ],
      "metadata": {
        "colab": {
          "base_uri": "https://localhost:8080/",
          "height": 132
        },
        "id": "wB9vA1i9nQ0p",
        "outputId": "8c578b7d-bfdd-42a6-eac6-9b7fdba64d65"
      },
      "execution_count": 17,
      "outputs": [
        {
          "output_type": "stream",
          "name": "stderr",
          "text": [
            "/usr/local/lib/python3.11/dist-packages/qutip/solver/solver_base.py:576: FutureWarning: e_ops will be keyword only from qutip 5.3 for all solver\n",
            "  warnings.warn(\n"
          ]
        },
        {
          "output_type": "execute_result",
          "data": {
            "text/plain": [
              "<IPython.core.display.Latex object>"
            ],
            "text/latex": "$$\n\n\\begin{bmatrix}\n1.9416999709 & 0.5 - 0.2818217675 i & 0.4805666573 & 0.0939405874  \\\\\n 0.5 + 0.2818217675 i & 0.5583000291 & 0.0939405874 i & 0.0194333427 i  \\\\\n 0.4805666573 & - 0.0939405874 i & 0.5194333436 & -0.0939405927  \\\\\n 0.0939405874 & - 0.0194333427 i & -0.0939405927 & 0.9805666564  \\\\\n \\end{bmatrix}\n$$"
          },
          "metadata": {},
          "execution_count": 17
        }
      ]
    },
    {
      "cell_type": "code",
      "source": [
        "# Extract Kraus operators from the chi matrix\n",
        "def kraus_operators_from_chi(chi):\n",
        "    eigvals, eigvecs = np.linalg.eigh(chi)\n",
        "    kraus_ops = []\n",
        "    for i in range(len(eigvals)):\n",
        "        if np.abs(eigvals[i]) > 1e-6:\n",
        "            kraus_matrix = sum(\n",
        "                eigvecs[j, i] * paulis[j] for j in range(4)\n",
        "            )\n",
        "            kraus_ops.append(np.sqrt(eigvals[i]) * kraus_matrix)\n",
        "    return kraus_ops"
      ],
      "metadata": {
        "id": "dsNUGndQrTXY"
      },
      "execution_count": 18,
      "outputs": []
    },
    {
      "cell_type": "code",
      "source": [
        "kraus_ops = kraus_operators_from_chi(chi.full())\n",
        "for i, K in enumerate(kraus_ops):\n",
        "    print(f\"Kraus Operator {i + 1}:\")\n",
        "    display(show(K.full()))"
      ],
      "metadata": {
        "colab": {
          "base_uri": "https://localhost:8080/",
          "height": 248
        },
        "id": "EpABHmLcrwGl",
        "outputId": "2c3eb023-4259-41b3-fabb-880bf7561bd6"
      },
      "execution_count": 19,
      "outputs": [
        {
          "output_type": "stream",
          "name": "stdout",
          "text": [
            "Kraus Operator 1:\n"
          ]
        },
        {
          "output_type": "display_data",
          "data": {
            "text/plain": [
              "<IPython.core.display.Latex object>"
            ],
            "text/latex": "$$\n\n\\begin{bmatrix}\n-0.1244180187 + 0.0199156231 i & 0.3962508167 - 0.2195187517 i  \\\\\n 0.1969365578 + 0.3548138649 i & -0.2366561944 - 0.0199156231 i  \\\\\n \\end{bmatrix}\n$$"
          },
          "metadata": {}
        },
        {
          "output_type": "stream",
          "name": "stdout",
          "text": [
            "Kraus Operator 2:\n"
          ]
        },
        {
          "output_type": "display_data",
          "data": {
            "text/plain": [
              "<IPython.core.display.Latex object>"
            ],
            "text/latex": "$$\n\n\\begin{bmatrix}\n-0.0985536979 - 0.0961061601 i & -0.4852765744 + 0.4976126862 i  \\\\\n 0.4960185115 + 0.4877104121 i & -0.0944920646 + 0.0961061601 i  \\\\\n \\end{bmatrix}\n$$"
          },
          "metadata": {}
        },
        {
          "output_type": "stream",
          "name": "stdout",
          "text": [
            "Kraus Operator 3:\n"
          ]
        },
        {
          "output_type": "display_data",
          "data": {
            "text/plain": [
              "<IPython.core.display.Latex object>"
            ],
            "text/latex": "$$\n\n\\begin{bmatrix}\n-0.4957801478 + 0.8459696828 i & -0.1668221255 - 0.0983810906 i  \\\\\n 0.1640906908 + 0.0970093114 i & 0.4969606057 - 0.8459696828 i  \\\\\n \\end{bmatrix}\n$$"
          },
          "metadata": {}
        },
        {
          "output_type": "stream",
          "name": "stdout",
          "text": [
            "Kraus Operator 4:\n"
          ]
        },
        {
          "output_type": "display_data",
          "data": {
            "text/plain": [
              "<IPython.core.display.Latex object>"
            ],
            "text/latex": "$$\n\n\\begin{bmatrix}\n-1.4539048583 + 0.0044838734 i & -0.3807482512 + 0.138056421 i  \\\\\n -0.423218894 - 0.6337121253 i & -1.3027520366 - 0.0044838734 i  \\\\\n \\end{bmatrix}\n$$"
          },
          "metadata": {}
        }
      ]
    },
    {
      "cell_type": "markdown",
      "source": [
        "#Choi"
      ],
      "metadata": {
        "id": "q_DWk_vFk_7x"
      }
    },
    {
      "cell_type": "code",
      "source": [
        "def chi_to_superop(chi):\n",
        "    superop = 0\n",
        "    for m, Em in enumerate(paulis):\n",
        "        for n, En in enumerate(paulis):\n",
        "            kron = qt.tensor(Em, En.conj())\n",
        "            superop += chi[m, n] * kron\n",
        "    return Qobj(superop)\n",
        "\n",
        "chi_identity = np.zeros((4, 4), dtype=complex)\n",
        "chi_identity[0, 0] = 1.0  # Identity channel"
      ],
      "metadata": {
        "id": "ef7QAQRDlBRF"
      },
      "execution_count": 20,
      "outputs": []
    },
    {
      "cell_type": "markdown",
      "source": [
        "#K=U.P (polar decomposition)"
      ],
      "metadata": {
        "id": "-ddpRpHVtj12"
      }
    },
    {
      "cell_type": "code",
      "source": [
        "K1 = kraus_ops[0].full()\n",
        "\n",
        "U, P = polar(K1)\n",
        "\n",
        "# Approximate as unitary\n",
        "U_qiskit = Operator(U)\n",
        "qc = QuantumCircuit(1)\n",
        "qc.unitary(U_qiskit, 0, label=\"U_K1\")\n",
        "\n",
        "print(\"Unitary approximation of dominant Kraus op:\")\n",
        "print(np.round(U, 3))\n",
        "\n",
        "qc.draw(\"mpl\")"
      ],
      "metadata": {
        "colab": {
          "base_uri": "https://localhost:8080/",
          "height": 178
        },
        "id": "xxdzgBnCttEW",
        "outputId": "e2aa2041-d005-4868-dc8a-ec14ee12713f"
      },
      "execution_count": 21,
      "outputs": [
        {
          "output_type": "stream",
          "name": "stdout",
          "text": [
            "Unitary approximation of dominant Kraus op:\n",
            "[[ 0.084+0.173j  0.882-0.43j ]\n",
            " [ 0.426+0.884j -0.173+0.083j]]\n"
          ]
        },
        {
          "output_type": "execute_result",
          "data": {
            "text/plain": [
              "<Figure size 185.453x117.056 with 1 Axes>"
            ],
            "image/png": "[encoded data removed]"
          },
          "metadata": {},
          "execution_count": 21
        }
      ]
    },
    {
      "cell_type": "code",
      "source": [
        "unitaries = []\n",
        "circuits = []\n",
        "\n",
        "for i, K in enumerate(kraus_ops):\n",
        "    print(f\"\\n=== Kraus Operator {i+1} ===\")\n",
        "    K_mat = K.full()\n",
        "\n",
        "    # Polar decomposition: K = U * P\n",
        "    U, P = polar(K_mat)\n",
        "    unitaries.append(U)\n",
        "\n",
        "    print(\"Approximate Unitary U:\")\n",
        "    display(show(np.round(U, 3)))\n",
        "\n",
        "    U_qiskit = Operator(U)\n",
        "    qc = QuantumCircuit(1, name=f\"U_{i+1}\")\n",
        "    qc.unitary(U_qiskit, 0)\n",
        "    circuits.append(qc)"
      ],
      "metadata": {
        "colab": {
          "base_uri": "https://localhost:8080/",
          "height": 385
        },
        "id": "3AToWhvNukOL",
        "outputId": "9c31c51e-d068-4bbe-ab8b-82367353be7f"
      },
      "execution_count": 22,
      "outputs": [
        {
          "output_type": "stream",
          "name": "stdout",
          "text": [
            "\n",
            "=== Kraus Operator 1 ===\n",
            "Approximate Unitary U:\n"
          ]
        },
        {
          "output_type": "display_data",
          "data": {
            "text/plain": [
              "<IPython.core.display.Latex object>"
            ],
            "text/latex": "$$\n\n\\begin{bmatrix}\n0.084 + 0.173 i & \\frac{441}{500} - \\frac{43 i}{100}  \\\\\n 0.426 + 0.884 i & -0.173 + 0.083 i  \\\\\n \\end{bmatrix}\n$$"
          },
          "metadata": {}
        },
        {
          "output_type": "stream",
          "name": "stdout",
          "text": [
            "\n",
            "=== Kraus Operator 2 ===\n",
            "Approximate Unitary U:\n"
          ]
        },
        {
          "output_type": "display_data",
          "data": {
            "text/plain": [
              "<IPython.core.display.Latex object>"
            ],
            "text/latex": "$$\n\n\\begin{bmatrix}\n- \\frac{69}{500} - \\frac{67 i}{500} & -0.685 + 0.703 i  \\\\\n \\frac{7}{10} + \\frac{86 i}{125} & -0.135 + 0.137 i  \\\\\n \\end{bmatrix}\n$$"
          },
          "metadata": {}
        },
        {
          "output_type": "stream",
          "name": "stdout",
          "text": [
            "\n",
            "=== Kraus Operator 3 ===\n",
            "Approximate Unitary U:\n"
          ]
        },
        {
          "output_type": "display_data",
          "data": {
            "text/plain": [
              "<IPython.core.display.Latex object>"
            ],
            "text/latex": "$$\n\n\\begin{bmatrix}\n-0.496 + 0.847 i & -0.166 - 0.097 i  \\\\\n 0.166 + 0.097 i & 0.497 - 0.846 i  \\\\\n \\end{bmatrix}\n$$"
          },
          "metadata": {}
        },
        {
          "output_type": "stream",
          "name": "stdout",
          "text": [
            "\n",
            "=== Kraus Operator 4 ===\n",
            "Approximate Unitary U:\n"
          ]
        },
        {
          "output_type": "display_data",
          "data": {
            "text/plain": [
              "<IPython.core.display.Latex object>"
            ],
            "text/latex": "$$\n\n\\begin{bmatrix}\n- \\frac{49}{50} + \\frac{27 i}{500} & -0.011 - 0.192 i  \\\\\n -0.011 - 0.192 i & - \\frac{49}{50} + \\frac{27 i}{500}  \\\\\n \\end{bmatrix}\n$$"
          },
          "metadata": {}
        }
      ]
    },
    {
      "cell_type": "markdown",
      "source": [
        "#Fitting Circuit"
      ],
      "metadata": {
        "id": "IdqThqlJarAW"
      }
    },
    {
      "cell_type": "code",
      "source": [
        "weights = []\n",
        "angles = []\n",
        "\n",
        "for K in kraus_ops:\n",
        "    Kmat = K.full()\n",
        "    w = np.trace(Kmat.conj().T @ Kmat).real\n",
        "    weights.append(w)\n",
        "\n",
        "    U, P = polar(Kmat)\n",
        "    # For a unitary, U = exp(-i*theta*n·σ/2)\n",
        "    # For RY(θ): U[0,0]=cos(θ/2), U[1,0]=sin(θ/2)\n",
        "    theta = 2 * np.arccos(U[0, 0].real)\n",
        "    angles.append(theta)\n",
        "\n",
        "# Normalize weights\n",
        "weights = np.array(weights)\n",
        "weights /= weights.sum()\n",
        "\n",
        "# Weighted average θ\n",
        "theta_weighted = np.sum(weights * angles)\n",
        "print(\"Weighted average θ:\", theta_weighted)"
      ],
      "metadata": {
        "colab": {
          "base_uri": "https://localhost:8080/",
          "height": 0
        },
        "id": "QtsLb5aeatfm",
        "outputId": "07c53196-162e-40c2-a4aa-0c6dafc46caa"
      },
      "execution_count": 24,
      "outputs": [
        {
          "output_type": "stream",
          "name": "stdout",
          "text": [
            "Weighted average θ: 4.986295930985632\n"
          ]
        }
      ]
    },
    {
      "cell_type": "code",
      "source": [
        "def simulate_chi_for_theta(theta, J12=0.2, J01=0.1, A=(1.0, 0.5),\n",
        "                           delta=(0.0, 0.0),\n",
        "                           coup_12=(qt.sigmaz(), qt.sigmax()),\n",
        "                           coup_01=(qt.sigmay(), qt.sigmax()),\n",
        "                           shape=(\"cos\", \"chirp\"),\n",
        "                           extra_params=({}, {\"chirp_rate\": 5.0})):\n",
        "    def build_adam_state_theta(theta):\n",
        "        psi_theta = (np.cos(theta) * qt.basis(2, 0) + np.sin(theta) * qt.basis(2, 1)).unit()\n",
        "        zero = qt.basis(2, 0)\n",
        "        return qt.tensor(zero, zero, psi_theta)\n",
        "\n",
        "    chi, labels = perform_qpt(\n",
        "        J12=J12, J01=J01, A=A, delta=delta,\n",
        "        coup_12=coup_12, coup_01=coup_01,\n",
        "        shape=shape, extra_params=extra_params\n",
        "    )\n",
        "    return chi.full()"
      ],
      "metadata": {
        "id": "m4a8U4qbeTBI"
      },
      "execution_count": 26,
      "outputs": []
    },
    {
      "cell_type": "code",
      "source": [
        "def cost_fn(theta, chi_target):\n",
        "    chi_sim = simulate_chi_for_theta(\n",
        "        theta,)\n",
        "    # Frobenius norm of difference\n",
        "    return np.linalg.norm(chi_sim - chi_target)"
      ],
      "metadata": {
        "id": "MkyT5mJGgKwa"
      },
      "execution_count": 27,
      "outputs": []
    },
    {
      "cell_type": "code",
      "source": [
        "theta0 = theta_weighted\n",
        "\n",
        "res = minimize(\n",
        "    cost_fn,\n",
        "    x0=[theta0],\n",
        "    args=(chi.full(),),\n",
        "    bounds=[(0, 2 * np.pi)],\n",
        "    method='L-BFGS-B'\n",
        ")\n",
        "\n",
        "theta_opt = res.x[0]\n",
        "print(f\"Optimal θ: {theta_opt:.6f} rad\")\n",
        "print(f\"Fitting loss: {res.fun:.6e}\")"
      ],
      "metadata": {
        "colab": {
          "base_uri": "https://localhost:8080/"
        },
        "id": "WFoGUmmVgbfm",
        "outputId": "d37e571d-df01-48b4-e3c6-0e6e7187dd7f"
      },
      "execution_count": 28,
      "outputs": [
        {
          "output_type": "stream",
          "name": "stdout",
          "text": [
            "Optimal θ: 4.986296 rad\n",
            "Fitting loss: 0.000000e+00\n"
          ]
        },
        {
          "output_type": "stream",
          "name": "stderr",
          "text": [
            "/usr/local/lib/python3.11/dist-packages/qutip/solver/solver_base.py:576: FutureWarning: e_ops will be keyword only from qutip 5.3 for all solver\n",
            "  warnings.warn(\n"
          ]
        }
      ]
    },
    {
      "cell_type": "code",
      "source": [
        "chi_fit = simulate_chi_for_theta(theta_opt)\n",
        "\n",
        "plot_chi_matrix(chi.full(), title=\"Target χ (from attack)\")\n",
        "plot_chi_matrix(chi_fit, title=f\"Fitted χ (θ={theta_opt:.2f} rad)\")"
      ],
      "metadata": {
        "colab": {
          "base_uri": "https://localhost:8080/",
          "height": 1000
        },
        "id": "4bsaiRxBgsIF",
        "outputId": "35977106-083e-4b12-cc70-23b23897b8f2"
      },
      "execution_count": 29,
      "outputs": [
        {
          "output_type": "display_data",
          "data": {
            "text/plain": [
              "<Figure size 600x500 with 2 Axes>"
            ],
            "image/png": "[encoded data removed]"
          },
          "metadata": {}
        },
        {
          "output_type": "display_data",
          "data": {
            "text/plain": [
              "<Figure size 600x500 with 2 Axes>"
            ],
            "image/png": "[encoded data removed]"
          },
          "metadata": {}
        }
      ]
    }
  ]
}