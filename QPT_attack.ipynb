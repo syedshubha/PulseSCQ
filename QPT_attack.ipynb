{
  "nbformat": 4,
  "nbformat_minor": 0,
  "metadata": {
    "colab": {
      "provenance": [],
      "authorship_tag": "ABX9TyPCsbSGfokICLgdumUj2z4a",
      "include_colab_link": true
    },
    "kernelspec": {
      "name": "python3",
      "display_name": "Python 3"
    },
    "language_info": {
      "name": "python"
    }
  },
  "cells": [
    {
      "cell_type": "markdown",
      "metadata": {
        "id": "view-in-github",
        "colab_type": "text"
      },
      "source": [
        "<a href=\"https://colab.research.google.com/github/syedshubha/PulseSCQ/blob/main/QPT_attack.ipynb\" target=\"_parent\"><img src=\"https://colab.research.google.com/assets/colab-badge.svg\" alt=\"Open In Colab\"/></a>"
      ]
    },
    {
      "cell_type": "code",
      "execution_count": 1,
      "metadata": {
        "id": "x8tChw1LpNRy"
      },
      "outputs": [],
      "source": [
        "%pip install --quiet qutip qutip-qip matplotlib numpy &> /dev/null"
      ]
    },
    {
      "cell_type": "code",
      "source": [
        "import qutip as qt\n",
        "from qutip_qip.circuit import QubitCircuit\n",
        "from qutip_qip.operations import Gate, gate_sequence_product\n",
        "import numpy as np\n",
        "import matplotlib.pyplot as plt\n",
        "\n",
        "from itertools import product\n",
        "import pandas as pd"
      ],
      "metadata": {
        "id": "qoojCPv2pdKw"
      },
      "execution_count": 2,
      "outputs": []
    },
    {
      "cell_type": "markdown",
      "source": [
        "#No Pulse Attack"
      ],
      "metadata": {
        "id": "Y7gBLqSFt-uK"
      }
    },
    {
      "cell_type": "code",
      "source": [
        "theta_vals = np.linspace(0, np.pi, 100)\n",
        "\n",
        "theory = []\n",
        "for theta in theta_vals:\n",
        "    # Prepare input state: cos(theta)|0> + sin(theta)|1>\n",
        "    state_init = (np.cos(theta) * qt.basis(2, 0) + np.sin(theta) * qt.basis(2, 1)).unit()\n",
        "\n",
        "    # Projector onto |1>\n",
        "    P_1 = qt.basis(2, 1) * qt.basis(2, 1).dag()\n",
        "\n",
        "    # Probability of measuring |1>\n",
        "    prob_1 = qt.expect(P_1, state_init)\n",
        "    theory.append(prob_1)"
      ],
      "metadata": {
        "id": "CaAwKb6xpyPT"
      },
      "execution_count": 3,
      "outputs": []
    },
    {
      "cell_type": "code",
      "source": [
        "def plotting(theta, fun1, fun2=None):\n",
        "  plt.figure(figsize=(8, 5))\n",
        "  if fun2 is None:\n",
        "    A= \"No Attack\"\n",
        "  else:\n",
        "    A = \"pulse attack\"\n",
        "    plt.plot(theta / np.pi, fun2, label='No Attack', color='blue')\n",
        "  plt.plot(theta / np.pi, fun1, label=A, color='red')\n",
        "  plt.xlabel(r\"Input State Rotation Angle $\\theta/\\pi$\")\n",
        "  plt.ylabel(r'Probability of measuring $|1\\rangle$')\n",
        "  plt.title(r'$\\langle 1 | \\psi_\\theta \\rangle^2$ vs $\\theta$')\n",
        "  plt.grid(True)\n",
        "  plt.legend()\n",
        "  plt.tight_layout()\n",
        "  plt.show()"
      ],
      "metadata": {
        "id": "lU9SHleTH_lN"
      },
      "execution_count": 4,
      "outputs": []
    },
    {
      "cell_type": "markdown",
      "source": [
        "# Pulse Attack"
      ],
      "metadata": {
        "id": "L8Lc8tyLw6K1"
      }
    },
    {
      "cell_type": "code",
      "source": [
        "sx, sy, sz = qt.sigmax(), qt.sigmay(), qt.sigmaz()\n",
        "I = qt.qeye(2)\n",
        "\n",
        "def build_adam_state(theta):\n",
        "    psi_theta = (np.cos(theta) * qt.basis(2, 0) + np.sin(theta) * qt.basis(2, 1)).unit()\n",
        "    zero = qt.basis(2, 0)\n",
        "    return qt.tensor(zero, zero, psi_theta)"
      ],
      "metadata": {
        "id": "sYoTFuw8vkUk"
      },
      "execution_count": 5,
      "outputs": []
    },
    {
      "cell_type": "code",
      "source": [
        "def pulse_shape(shape=\"cos\", A=1.0, delta=0.0, sigma=0.1, alpha=0.5, chirp_rate=0.0):\n",
        "\n",
        "    if shape == \"cos\":\n",
        "        return lambda t, args: A * np.cos(delta * t)\n",
        "\n",
        "    elif shape == \"gaussian\":\n",
        "        return lambda t, args: A * np.exp(-((t - 0.5)**2) / (2 * sigma**2))\n",
        "\n",
        "    elif shape == \"square\":\n",
        "        return lambda t, args: A if 0.3 <= t <= 0.7 else 0.0\n",
        "\n",
        "    elif shape == \"chirp\":\n",
        "        return lambda t, args: A * np.cos((delta + chirp_rate * t) * t)\n",
        "\n",
        "    elif shape == \"drag\":\n",
        "        return lambda t, args: A * (np.exp(-((t - 0.5)**2)/(2 * sigma**2))\n",
        "                                   - alpha * (t - 0.5) / sigma**2 * np.exp(-((t - 0.5)**2)/(2 * sigma**2)))\n",
        "\n",
        "    else:\n",
        "        raise ValueError(f\"Unknown pulse shape: {shape}\")\n"
      ],
      "metadata": {
        "id": "-U1pzQI70EkH"
      },
      "execution_count": 6,
      "outputs": []
    },
    {
      "cell_type": "code",
      "source": [
        "def apply_eve_multi_attack(state_pre, J12=0.1, J01=0.1, A=(1.0, 1.0),\n",
        "                            delta=(0.0, 0.0), coup_12=(qt.sigmaz(), qt.sigmax()),\n",
        "                            coup_01=(qt.sigmax(), qt.sigmax()),\n",
        "                            shape=(\"cos\", \"cos\"),\n",
        "                            extra_params=({}, {})):\n",
        "    A0, A1 = A\n",
        "    delta0, delta1 = delta\n",
        "    s1_12, s2_12 = coup_12\n",
        "    s0_01, s1_01 = coup_01\n",
        "    shape0, shape1 = shape\n",
        "    kwargs0, kwargs1 = extra_params\n",
        "\n",
        "    I = qt.qeye(2)\n",
        "\n",
        "    # Coupling terms\n",
        "    H_couple_12 = J12 * qt.tensor(I, s1_12, s2_12)\n",
        "    H_couple_01 = J01 * qt.tensor(s0_01, s1_01, I)\n",
        "\n",
        "    # Time-dependent drive terms using pulse_shape function\n",
        "    coeff0 = pulse_shape(shape=shape0, A=A0, delta=delta0, **kwargs0)\n",
        "    coeff1 = pulse_shape(shape=shape1, A=A1, delta=delta1, **kwargs1)\n",
        "\n",
        "    H_p0 = [qt.tensor(qt.sigmax(), I, I), coeff0]\n",
        "    H_p1 = [qt.tensor(I, qt.sigmax(), I), coeff1]\n",
        "\n",
        "    H = [H_couple_12, H_couple_01, H_p0, H_p1]\n",
        "\n",
        "    t_attack = np.linspace(0, 1.0, 50)\n",
        "    sol = qt.mesolve(H, state_pre, t_attack, [], [])\n",
        "    return sol.states[-1]\n"
      ],
      "metadata": {
        "id": "gsK7B29gvljA"
      },
      "execution_count": 7,
      "outputs": []
    },
    {
      "cell_type": "code",
      "source": [
        "def measure_with_eve(theta_vals, J12=0.1, J01=0.1, A=(1.0, 1.0),\n",
        "                     delta=(0.0, 0.0), coup_12=(qt.sigmaz(), qt.sigmax()),\n",
        "                     coup_01=(qt.sigmax(), qt.sigmax()),\n",
        "                     shape=(\"cos\", \"cos\"), extra_params=({}, {})):\n",
        "    probs_attack = []\n",
        "    for theta in theta_vals:\n",
        "        state_init = build_adam_state(theta)\n",
        "        state_post = apply_eve_multi_attack(\n",
        "            state_init,\n",
        "            J12=J12, J01=J01,\n",
        "            A=A, delta=delta,\n",
        "            coup_12=coup_12, coup_01=coup_01,\n",
        "            shape=shape, extra_params=extra_params\n",
        "        )\n",
        "        state_q2 = state_post.ptrace(2)\n",
        "        P_1 = qt.basis(2, 1) * qt.basis(2, 1).dag()\n",
        "        prob_1 = qt.expect(P_1, state_q2)\n",
        "        probs_attack.append(prob_1)\n",
        "    return probs_attack"
      ],
      "metadata": {
        "id": "frADLdH6wsPn"
      },
      "execution_count": 8,
      "outputs": []
    },
    {
      "cell_type": "code",
      "source": [
        "probs_eve = measure_with_eve(theta_vals,\n",
        "                             J12=0.2,\n",
        "                             J01=0.1,\n",
        "                             A=(1.0, 0.5),\n",
        "                             delta=(0.0, 0.0),\n",
        "                             coup_12=(qt.sigmaz(), qt.sigmax()),\n",
        "                             coup_01=(qt.sigmax(), qt.sigmay()))\n",
        "\n",
        "plotting(theta_vals, probs_eve, theory)"
      ],
      "metadata": {
        "colab": {
          "base_uri": "https://localhost:8080/",
          "height": 540
        },
        "id": "mDrJvuF9wzGX",
        "outputId": "1db590dd-f78f-4243-80b8-5c889e8cdc1a"
      },
      "execution_count": 9,
      "outputs": [
        {
          "output_type": "stream",
          "name": "stderr",
          "text": [
            "/usr/local/lib/python3.11/dist-packages/qutip/solver/solver_base.py:576: FutureWarning: e_ops will be keyword only from qutip 5.3 for all solver\n",
            "  warnings.warn(\n"
          ]
        },
        {
          "output_type": "display_data",
          "data": {
            "text/plain": [
              "<Figure size 800x500 with 1 Axes>"
            ],
            "image/png": "[encoded data removed]"
          },
          "metadata": {}
        }
      ]
    },
    {
      "cell_type": "markdown",
      "source": [
        "#Finding Dominant Crosstalk Terms"
      ],
      "metadata": {
        "id": "byDvySjq4mU7"
      }
    },
    {
      "cell_type": "code",
      "source": [
        "def scan_coupling_and_pulse_effects(theta_vals, pulse_shapes, J12=0.2, J01=0.1, A=(1.0, 1.0), delta=(0.0, 0.0)):\n",
        "    paulis = {'I': qt.qeye(2), 'X': qt.sigmax(), 'Y': qt.sigmay(), 'Z': qt.sigmaz()}\n",
        "    results = []\n",
        "\n",
        "    for k1, k2 in product(paulis.keys(), repeat=2):\n",
        "        coup_01 = (paulis[k1], paulis[k2])\n",
        "        for shape in pulse_shapes:\n",
        "            # Only q1 is attacked: zero amplitude for q0\n",
        "            probs_q1_only = measure_with_eve(\n",
        "                theta_vals, J12=J12, J01=J01, A=(0.0, A[1]),\n",
        "                delta=delta, coup_01=coup_01,\n",
        "                shape=(shape, shape),  # valid shapes for both\n",
        "                extra_params=({}, {})\n",
        "            )\n",
        "\n",
        "            # Both q0 and q1 are attacked\n",
        "            probs_q0_q1 = measure_with_eve(\n",
        "                theta_vals, J12=J12, J01=J01, A=A,\n",
        "                delta=delta, coup_01=coup_01,\n",
        "                shape=(shape, shape),\n",
        "                extra_params=({}, {})\n",
        "            )\n",
        "\n",
        "            diff_norm = np.linalg.norm(np.array(probs_q0_q1) - np.array(probs_q1_only))\n",
        "            results.append((f\"{k1}⊗{k2}\", shape, diff_norm))\n",
        "\n",
        "    return pd.DataFrame(results, columns=[\"Coupling Type (q0⊗q1)\", \"Pulse Shape\", \"||Δ|| (Influence)\"]).sort_values(\n",
        "        by=\"||Δ|| (Influence)\", ascending=False).reset_index(drop=True)\n"
      ],
      "metadata": {
        "id": "DrDh6QMVKQUK"
      },
      "execution_count": 10,
      "outputs": []
    },
    {
      "cell_type": "code",
      "source": [
        "J12=0.2\n",
        "J01=0.1\n",
        "pulse_shapes = [\"cos\", \"square\", \"gaussian\", \"chirp\", \"drag\"]\n",
        "\n",
        "df_pulse_coupling = scan_coupling_and_pulse_effects(theta_vals, pulse_shapes, J12, J01)\n",
        "print(df_pulse_coupling.head(10)) #top 10"
      ],
      "metadata": {
        "colab": {
          "base_uri": "https://localhost:8080/"
        },
        "id": "XwwwP38kssAP",
        "outputId": "9dd91765-bde7-48b8-eea6-80e3c10eeb6a"
      },
      "execution_count": 11,
      "outputs": [
        {
          "output_type": "stream",
          "name": "stdout",
          "text": [
            "  Coupling Type (q0⊗q1) Pulse Shape  ||Δ|| (Influence)\n",
            "0                   Y⊗X       chirp           0.010840\n",
            "1                   Y⊗X         cos           0.010840\n",
            "2                   Z⊗X       chirp           0.007278\n",
            "3                   Z⊗X         cos           0.007278\n",
            "4                   Y⊗X      square           0.003672\n",
            "5                   Y⊗X        drag           0.002667\n",
            "6                   Y⊗X    gaussian           0.001610\n",
            "7                   Z⊗X        drag           0.001380\n",
            "8                   Z⊗X      square           0.001221\n",
            "9                   Z⊗X    gaussian           0.000353\n"
          ]
        }
      ]
    }
  ]
}