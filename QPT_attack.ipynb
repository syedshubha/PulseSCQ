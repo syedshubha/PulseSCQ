{
  "nbformat": 4,
  "nbformat_minor": 0,
  "metadata": {
    "colab": {
      "provenance": [],
      "authorship_tag": "ABX9TyPKX97+dKKgGF2GiDMmaV62",
      "include_colab_link": true
    },
    "kernelspec": {
      "name": "python3",
      "display_name": "Python 3"
    },
    "language_info": {
      "name": "python"
    }
  },
  "cells": [
    {
      "cell_type": "markdown",
      "metadata": {
        "id": "view-in-github",
        "colab_type": "text"
      },
      "source": [
        "<a href=\"https://colab.research.google.com/github/syedshubha/PulseSCQ/blob/main/QPT_attack.ipynb\" target=\"_parent\"><img src=\"https://colab.research.google.com/assets/colab-badge.svg\" alt=\"Open In Colab\"/></a>"
      ]
    },
    {
      "cell_type": "code",
      "execution_count": 1,
      "metadata": {
        "id": "x8tChw1LpNRy"
      },
      "outputs": [],
      "source": [
        "%pip install --quiet qutip qutip-qip qiskit qiskit-aer pylatexenc &> /dev/null"
      ]
    },
    {
      "cell_type": "code",
      "source": [
        "import qutip as qt\n",
        "from qutip_qip.circuit import QubitCircuit\n",
        "from qutip_qip.operations import Gate, gate_sequence_product\n",
        "import numpy as np\n",
        "import matplotlib.pyplot as plt\n",
        "\n",
        "from itertools import product\n",
        "import pandas as pd"
      ],
      "metadata": {
        "id": "qoojCPv2pdKw"
      },
      "execution_count": 2,
      "outputs": []
    },
    {
      "cell_type": "markdown",
      "source": [
        "#No Pulse Attack"
      ],
      "metadata": {
        "id": "Y7gBLqSFt-uK"
      }
    },
    {
      "cell_type": "code",
      "source": [
        "theta_vals = np.linspace(0, np.pi, 100)\n",
        "\n",
        "theory = []\n",
        "for theta in theta_vals:\n",
        "    # Prepare input state: cos(theta)|0> + sin(theta)|1>\n",
        "    state_init = (np.cos(theta) * qt.basis(2, 0) + np.sin(theta) * qt.basis(2, 1)).unit()\n",
        "\n",
        "    # Projector onto |1>\n",
        "    P_1 = qt.basis(2, 1) * qt.basis(2, 1).dag()\n",
        "\n",
        "    # Probability of measuring |1>\n",
        "    prob_1 = qt.expect(P_1, state_init)\n",
        "    theory.append(prob_1)"
      ],
      "metadata": {
        "id": "CaAwKb6xpyPT"
      },
      "execution_count": 3,
      "outputs": []
    },
    {
      "cell_type": "code",
      "source": [
        "def plotting(theta, fun1, fun2=None):\n",
        "  plt.figure(figsize=(8, 5))\n",
        "  if fun2 is None:\n",
        "    A= \"No Attack\"\n",
        "  else:\n",
        "    A = \"pulse attack\"\n",
        "    plt.plot(theta / np.pi, fun2, label='No Attack', color='blue')\n",
        "  plt.plot(theta / np.pi, fun1, label=A, color='red')\n",
        "  plt.xlabel(r\"Input State Rotation Angle $\\theta/\\pi$\")\n",
        "  plt.ylabel(r'Probability of measuring $|1\\rangle$')\n",
        "  plt.title(r'$\\langle 1 | \\psi_\\theta \\rangle^2$ vs $\\theta$')\n",
        "  plt.grid(True)\n",
        "  plt.legend()\n",
        "  plt.tight_layout()\n",
        "  plt.show()"
      ],
      "metadata": {
        "id": "lU9SHleTH_lN"
      },
      "execution_count": 4,
      "outputs": []
    },
    {
      "cell_type": "markdown",
      "source": [
        "# Pulse Attack"
      ],
      "metadata": {
        "id": "L8Lc8tyLw6K1"
      }
    },
    {
      "cell_type": "code",
      "source": [
        "sx, sy, sz = qt.sigmax(), qt.sigmay(), qt.sigmaz()\n",
        "I = qt.qeye(2)\n",
        "\n",
        "paulis = [I, sx, sy, sz]\n",
        "pauli_labels = ['I', 'X', 'Y', 'Z']"
      ],
      "metadata": {
        "id": "sYoTFuw8vkUk"
      },
      "execution_count": 5,
      "outputs": []
    },
    {
      "cell_type": "code",
      "source": [
        "def build_adam_state(theta):\n",
        "    psi_theta = (np.cos(theta) * qt.basis(2, 0) + np.sin(theta) * qt.basis(2, 1)).unit()\n",
        "    zero = qt.basis(2, 0)\n",
        "    return qt.tensor(zero, zero, psi_theta)"
      ],
      "metadata": {
        "id": "3F-0p6Gym_eO"
      },
      "execution_count": 6,
      "outputs": []
    },
    {
      "cell_type": "code",
      "source": [
        "def pulse_shape(shape=\"cos\", A=1.0, delta=0.0, sigma=0.1, alpha=0.5, chirp_rate=0.0):\n",
        "\n",
        "    if shape == \"cos\":\n",
        "        return lambda t, args: A * np.cos(delta * t)\n",
        "\n",
        "    elif shape == \"gaussian\":\n",
        "        return lambda t, args: A * np.exp(-((t - 0.5)**2) / (2 * sigma**2))\n",
        "\n",
        "    elif shape == \"square\":\n",
        "        return lambda t, args: A if 0.3 <= t <= 0.7 else 0.0\n",
        "\n",
        "    elif shape == \"chirp\":\n",
        "        return lambda t, args: A * np.cos((delta + chirp_rate * t) * t)\n",
        "\n",
        "    elif shape == \"drag\":\n",
        "        return lambda t, args: A * (np.exp(-((t - 0.5)**2)/(2 * sigma**2))\n",
        "                                   - alpha * (t - 0.5) / sigma**2 * np.exp(-((t - 0.5)**2)/(2 * sigma**2)))\n",
        "\n",
        "    else:\n",
        "        raise ValueError(f\"Unknown pulse shape: {shape}\")\n"
      ],
      "metadata": {
        "id": "-U1pzQI70EkH"
      },
      "execution_count": 7,
      "outputs": []
    },
    {
      "cell_type": "code",
      "source": [
        "def apply_eve_multi_attack(state_pre, J12=0.1, J01=0.1, A=(1.0, 1.0),\n",
        "                            delta=(0.0, 0.0), coup_12=(qt.sigmaz(), qt.sigmax()),\n",
        "                            coup_01=(qt.sigmax(), qt.sigmax()),\n",
        "                            shape=(\"cos\", \"cos\"),\n",
        "                            extra_params=({}, {})):\n",
        "    A0, A1 = A\n",
        "    delta0, delta1 = delta\n",
        "    s1_12, s2_12 = coup_12\n",
        "    s0_01, s1_01 = coup_01\n",
        "    shape0, shape1 = shape\n",
        "    kwargs0, kwargs1 = extra_params\n",
        "\n",
        "    I = qt.qeye(2)\n",
        "\n",
        "    # Coupling terms\n",
        "    H_couple_12 = J12 * qt.tensor(I, s1_12, s2_12)\n",
        "    H_couple_01 = J01 * qt.tensor(s0_01, s1_01, I)\n",
        "\n",
        "    # Time-dependent drive terms\n",
        "    coeff0 = pulse_shape(shape=shape0, A=A0, delta=delta0, **kwargs0)\n",
        "    coeff1 = pulse_shape(shape=shape1, A=A1, delta=delta1, **kwargs1)\n",
        "\n",
        "    H_p0 = [qt.tensor(qt.sigmax(), I, I), coeff0]\n",
        "    H_p1 = [qt.tensor(I, qt.sigmax(), I), coeff1]\n",
        "\n",
        "    H = [H_couple_12, H_couple_01, H_p0, H_p1]\n",
        "\n",
        "    t_attack = np.linspace(0, 1.0, 50)\n",
        "    sol = qt.mesolve(H, state_pre, t_attack, [], [])\n",
        "    return sol.states[-1]\n"
      ],
      "metadata": {
        "id": "gsK7B29gvljA"
      },
      "execution_count": 8,
      "outputs": []
    },
    {
      "cell_type": "code",
      "source": [
        "def measure_with_eve(theta_vals, J12=0.1, J01=0.1, A=(1.0, 1.0),\n",
        "                     delta=(0.0, 0.0), coup_12=(qt.sigmaz(), qt.sigmax()),\n",
        "                     coup_01=(qt.sigmax(), qt.sigmax()),\n",
        "                     shape=(\"cos\", \"cos\"), extra_params=({}, {})):\n",
        "    probs_attack = []\n",
        "    for theta in theta_vals:\n",
        "        state_init = build_adam_state(theta)\n",
        "        state_post = apply_eve_multi_attack(\n",
        "            state_init,\n",
        "            J12=J12, J01=J01,\n",
        "            A=A, delta=delta,\n",
        "            coup_12=coup_12, coup_01=coup_01,\n",
        "            shape=shape, extra_params=extra_params\n",
        "        )\n",
        "        state_q2 = state_post.ptrace(2)\n",
        "        P_1 = qt.basis(2, 1) * qt.basis(2, 1).dag()\n",
        "        prob_1 = qt.expect(P_1, state_q2)\n",
        "        probs_attack.append(prob_1)\n",
        "    return probs_attack"
      ],
      "metadata": {
        "id": "frADLdH6wsPn"
      },
      "execution_count": 9,
      "outputs": []
    },
    {
      "cell_type": "code",
      "source": [
        "probs_eve = measure_with_eve(theta_vals,\n",
        "                             J12=0.2,\n",
        "                             J01=0.1,\n",
        "                             A=(1.0, 0.5),\n",
        "                             delta=(0.0, 0.0),\n",
        "                             coup_12=(qt.sigmaz(), qt.sigmax()),\n",
        "                             coup_01=(qt.sigmax(), qt.sigmay()))\n",
        "\n",
        "plotting(theta_vals, probs_eve, theory)"
      ],
      "metadata": {
        "colab": {
          "base_uri": "https://localhost:8080/",
          "height": 460
        },
        "id": "mDrJvuF9wzGX",
        "outputId": "ac23feb4-3c22-42fa-da1e-ccfc80706f5a"
      },
      "execution_count": 10,
      "outputs": [
        {
          "output_type": "stream",
          "name": "stderr",
          "text": [
            "/usr/local/lib/python3.11/dist-packages/qutip/solver/solver_base.py:576: FutureWarning: e_ops will be keyword only from qutip 5.3 for all solver\n",
            "  warnings.warn(\n"
          ]
        },
        {
          "output_type": "display_data",
          "data": {
            "text/plain": [
              "<Figure size 800x500 with 1 Axes>"
            ],
            "image/png": "[encoded data removed]"
          },
          "metadata": {}
        }
      ]
    },
    {
      "cell_type": "markdown",
      "source": [
        "#Finding Dominant Crosstalk Terms"
      ],
      "metadata": {
        "id": "byDvySjq4mU7"
      }
    },
    {
      "cell_type": "code",
      "source": [
        "def scan_coupling_and_pulse_effects(theta_vals, pulse_shapes, J12=0.2, J01=0.1, A=(1.0, 1.0), delta=(0.0, 0.0)):\n",
        "    paulis = {'I': qt.qeye(2), 'X': qt.sigmax(), 'Y': qt.sigmay(), 'Z': qt.sigmaz()}\n",
        "    results = []\n",
        "\n",
        "    for k1, k2 in product(paulis.keys(), repeat=2):\n",
        "        coup_01 = (paulis[k1], paulis[k2])\n",
        "        for shape in pulse_shapes:\n",
        "            # Only q1 is attacked: zero amplitude for q0\n",
        "            probs_q1_only = measure_with_eve(\n",
        "                theta_vals, J12=J12, J01=J01, A=(0.0, A[1]),\n",
        "                delta=delta, coup_01=coup_01,\n",
        "                shape=(shape, shape),\n",
        "                extra_params=({}, {})\n",
        "            )\n",
        "\n",
        "            # Both q0 and q1 are attacked\n",
        "            probs_q0_q1 = measure_with_eve(\n",
        "                theta_vals, J12=J12, J01=J01, A=A,\n",
        "                delta=delta, coup_01=coup_01,\n",
        "                shape=(shape, shape),\n",
        "                extra_params=({}, {})\n",
        "            )\n",
        "\n",
        "            diff_norm = np.linalg.norm(np.array(probs_q0_q1) - np.array(probs_q1_only))\n",
        "            results.append((f\"{k1}⊗{k2}\", shape, diff_norm))\n",
        "\n",
        "    return pd.DataFrame(results, columns=[\"Coupling Type (q0⊗q1)\", \"Pulse Shape\", \"||Δ|| (Influence)\"]).sort_values(\n",
        "        by=\"||Δ|| (Influence)\", ascending=False).reset_index(drop=True)\n"
      ],
      "metadata": {
        "id": "DrDh6QMVKQUK"
      },
      "execution_count": 11,
      "outputs": []
    },
    {
      "cell_type": "code",
      "source": [
        "J12=0.2\n",
        "J01=0.1\n",
        "pulse_shapes = [\"cos\", \"square\", \"gaussian\", \"chirp\", \"drag\"]\n",
        "\n",
        "df_pulse_coupling = scan_coupling_and_pulse_effects(theta_vals, pulse_shapes, J12, J01)\n",
        "print(df_pulse_coupling.head(10)) #top 10"
      ],
      "metadata": {
        "colab": {
          "base_uri": "https://localhost:8080/"
        },
        "id": "XwwwP38kssAP",
        "outputId": "76c9dd04-96d2-4b12-f5f8-03e544f9a317"
      },
      "execution_count": 12,
      "outputs": [
        {
          "output_type": "stream",
          "name": "stdout",
          "text": [
            "  Coupling Type (q0⊗q1) Pulse Shape  ||Δ|| (Influence)\n",
            "0                   Y⊗X       chirp           0.010840\n",
            "1                   Y⊗X         cos           0.010840\n",
            "2                   Z⊗X       chirp           0.007278\n",
            "3                   Z⊗X         cos           0.007278\n",
            "4                   Y⊗X      square           0.003672\n",
            "5                   Y⊗X        drag           0.002667\n",
            "6                   Y⊗X    gaussian           0.001610\n",
            "7                   Z⊗X        drag           0.001380\n",
            "8                   Z⊗X      square           0.001221\n",
            "9                   Z⊗X    gaussian           0.000353\n"
          ]
        }
      ]
    },
    {
      "cell_type": "markdown",
      "source": [
        "# Quantum Process Tomography"
      ],
      "metadata": {
        "id": "d9kLdiXfanah"
      }
    },
    {
      "cell_type": "code",
      "source": [
        "def prepare_input_states():\n",
        "    return [\n",
        "        qt.basis(2, 0),  # |0>\n",
        "        qt.basis(2, 1),  # |1>\n",
        "        (qt.basis(2, 0) + qt.basis(2, 1)).unit(),  # |+>\n",
        "        (qt.basis(2, 0) + 1j * qt.basis(2, 1)).unit()  # |+i>\n",
        "    ]"
      ],
      "metadata": {
        "id": "CHmNZ4XIamhK"
      },
      "execution_count": 13,
      "outputs": []
    },
    {
      "cell_type": "code",
      "source": [
        "def apply_eve_process_on_q2(input_state,\n",
        "                            J12=0.1, J01=0.1,\n",
        "                            A=(1.0, 1.0),\n",
        "                            delta=(0.0, 0.0),\n",
        "                            coup_12=(qt.sigmaz(), qt.sigmax()),\n",
        "                            coup_01=(qt.sigmax(), qt.sigmax()),\n",
        "                            shape=(\"cos\", \"cos\"),\n",
        "                            extra_params=({}, {})):\n",
        "    full_state = qt.tensor(qt.basis(2, 0), qt.basis(2, 0), input_state)\n",
        "    final_state = apply_eve_multi_attack(\n",
        "        state_pre=full_state,\n",
        "        J12=J12,\n",
        "        J01=J01,\n",
        "        A=A,\n",
        "        delta=delta,\n",
        "        coup_12=coup_12,\n",
        "        coup_01=coup_01,\n",
        "        shape=shape,\n",
        "        extra_params=extra_params\n",
        "    )\n",
        "    return final_state.ptrace(2)"
      ],
      "metadata": {
        "id": "3nVp9A2LnIuV"
      },
      "execution_count": 14,
      "outputs": []
    },
    {
      "cell_type": "code",
      "source": [
        "def perform_qpt(J12=0.2, J01=0.1, A=(1.0, 1.0), delta=(0.0, 0.0),\n",
        "                coup_12=(qt.sigmaz(), qt.sigmax()), coup_01=(qt.sigmax(), qt.sigmax()),\n",
        "                shape=(\"cos\", \"cos\"), extra_params=({}, {})):\n",
        "\n",
        "    paulis = [qt.qeye(2), qt.sigmax(), qt.sigmay(), qt.sigmaz()]\n",
        "    labels = [\"I\", \"X\", \"Y\", \"Z\"]\n",
        "    N = len(paulis)\n",
        "    chi = np.zeros((N, N), dtype=complex)\n",
        "\n",
        "    input_states = prepare_input_states()\n",
        "    output_states = [\n",
        "        apply_eve_process_on_q2(psi,\n",
        "                                J12=J12, J01=J01, A=A,\n",
        "                                delta=delta,\n",
        "                                coup_12=coup_12, coup_01=coup_01,\n",
        "                                shape=shape,\n",
        "                                extra_params=extra_params)\n",
        "        for psi in input_states\n",
        "    ]\n",
        "\n",
        "    for m, Em in enumerate(paulis):\n",
        "        for n, En in enumerate(paulis):\n",
        "            acc = 0.0\n",
        "            for i, psi_in in enumerate(input_states):\n",
        "                rho_in = psi_in * psi_in.dag()\n",
        "                rho_out = output_states[i]  #q2\n",
        "                term = (Em * rho_in * En.dag()).tr()\n",
        "                acc += term * rho_out.full().item(0, 0)  #⟨1|ρ|1⟩\n",
        "            chi[m, n] = acc / 2.0\n",
        "\n",
        "    return chi, labels\n"
      ],
      "metadata": {
        "id": "QCKUxsP1nJgl"
      },
      "execution_count": 15,
      "outputs": []
    },
    {
      "cell_type": "code",
      "source": [
        "def plot_chi_matrix(chi_matrix, title='Chi Matrix'):\n",
        "    fig, ax = plt.subplots(figsize=(6, 5))\n",
        "    cax = ax.matshow(np.abs(chi_matrix), cmap='viridis')\n",
        "    fig.colorbar(cax)\n",
        "    ax.set_xticks(range(4))\n",
        "    ax.set_yticks(range(4))\n",
        "    ax.set_xticklabels(pauli_labels)\n",
        "    ax.set_yticklabels(pauli_labels)\n",
        "    plt.title(title)\n",
        "    plt.xlabel('n')\n",
        "    plt.ylabel('m')\n",
        "    plt.tight_layout()\n",
        "    plt.show()"
      ],
      "metadata": {
        "id": "KgShd_dja_Ul"
      },
      "execution_count": 16,
      "outputs": []
    },
    {
      "cell_type": "code",
      "source": [
        "chi, label = perform_qpt(\n",
        "    J12=0.2,\n",
        "    J01=0.1,\n",
        "    A=(1.0, 0.5),\n",
        "    delta=(0.0, 0.0),\n",
        "    coup_12=(qt.sigmaz(), qt.sigmax()),\n",
        "    coup_01=(qt.sigmay(), qt.sigmax()),\n",
        "    shape=(\"cos\", \"chirp\"),\n",
        "    extra_params=({}, {\"chirp_rate\": 5.0})\n",
        ")\n",
        "\n",
        "plot_chi_matrix(chi, title=\"Chi Matrix under Eve's Pulse Attack\")"
      ],
      "metadata": {
        "colab": {
          "base_uri": "https://localhost:8080/",
          "height": 573
        },
        "id": "wB9vA1i9nQ0p",
        "outputId": "dd272188-db2f-4f48-d5c8-92146a5204d8"
      },
      "execution_count": 17,
      "outputs": [
        {
          "output_type": "stream",
          "name": "stderr",
          "text": [
            "/usr/local/lib/python3.11/dist-packages/qutip/solver/solver_base.py:576: FutureWarning: e_ops will be keyword only from qutip 5.3 for all solver\n",
            "  warnings.warn(\n"
          ]
        },
        {
          "output_type": "display_data",
          "data": {
            "text/plain": [
              "<Figure size 600x500 with 2 Axes>"
            ],
            "image/png": "[encoded data removed]"
          },
          "metadata": {}
        }
      ]
    },
    {
      "cell_type": "code",
      "source": [
        "from qiskit.visualization import array_to_latex as show\n",
        "show(chi)"
      ],
      "metadata": {
        "colab": {
          "base_uri": "https://localhost:8080/",
          "height": 99
        },
        "id": "hmI48Sw0tAfk",
        "outputId": "61827edc-ddce-41f6-a3c4-e66df0b2c580"
      },
      "execution_count": 18,
      "outputs": [
        {
          "output_type": "execute_result",
          "data": {
            "text/plain": [
              "<IPython.core.display.Latex object>"
            ],
            "text/latex": "$$\n\n\\begin{bmatrix}\n1.0939405874 & \\frac{1}{4} & 0.3439405874 & 0.4611333136  \\\\\n \\frac{1}{4} & 1.0939405874 & - 0.4611333136 i & 0.3439405874 i  \\\\\n 0.3439405874 & 0.4611333136 i & 1.0939405874 & - \\frac{i}{4}  \\\\\n 0.4611333136 & - 0.3439405874 i & \\frac{i}{4} & 1.0939405874  \\\\\n \\end{bmatrix}\n$$"
          },
          "metadata": {},
          "execution_count": 18
        }
      ]
    }
  ]
}