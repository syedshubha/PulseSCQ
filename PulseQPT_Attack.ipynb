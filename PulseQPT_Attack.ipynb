{
  "nbformat": 4,
  "nbformat_minor": 0,
  "metadata": {
    "colab": {
      "provenance": [],
      "include_colab_link": true
    },
    "kernelspec": {
      "name": "python3",
      "display_name": "Python 3"
    },
    "language_info": {
      "name": "python"
    }
  },
  "cells": [
    {
      "cell_type": "markdown",
      "metadata": {
        "id": "view-in-github",
        "colab_type": "text"
      },
      "source": [
        "<a href=\"https://colab.research.google.com/github/syedshubha/PulseSCQ/blob/main/PulseQPT_Attack.ipynb\" target=\"_parent\"><img src=\"https://colab.research.google.com/assets/colab-badge.svg\" alt=\"Open In Colab\"/></a>"
      ]
    },
    {
      "cell_type": "code",
      "execution_count": 1,
      "metadata": {
        "id": "x8tChw1LpNRy"
      },
      "outputs": [],
      "source": [
        "%pip install --quiet qutip qutip-qip qiskit qiskit-aer pylatexenc &> /dev/null"
      ]
    },
    {
      "cell_type": "code",
      "source": [
        "import qutip as qt\n",
        "from qutip import Qobj\n",
        "from qiskit import QuantumCircuit, QuantumRegister\n",
        "from qutip_qip.circuit import QubitCircuit\n",
        "from qutip_qip.operations import *\n",
        "from qiskit.quantum_info import Operator, process_fidelity, Choi, Operator, DensityMatrix, Kraus, SuperOp, Pauli\n",
        "\n",
        "\n",
        "import numpy as np\n",
        "from scipy.linalg import polar, logm\n",
        "from scipy.optimize import minimize\n",
        "import matplotlib.pyplot as plt\n",
        "from itertools import product\n",
        "import pandas as pd"
      ],
      "metadata": {
        "id": "qoojCPv2pdKw"
      },
      "execution_count": 2,
      "outputs": []
    },
    {
      "cell_type": "markdown",
      "source": [
        "#No Pulse Attack"
      ],
      "metadata": {
        "id": "Y7gBLqSFt-uK"
      }
    },
    {
      "cell_type": "code",
      "source": [
        "theta_vals = np.linspace(0, np.pi, 100)\n",
        "\n",
        "theory = []\n",
        "for theta in theta_vals:\n",
        "    # Prepare input state: cos(θ)|0⟩ + sin(θ)|1⟩\n",
        "    state_init = (np.cos(theta) * qt.basis(2, 0) + np.sin(theta) * qt.basis(2, 1)).unit()\n",
        "\n",
        "    # Projector onto |1⟩\n",
        "    P_1 = qt.basis(2, 1) * qt.basis(2, 1).dag()\n",
        "\n",
        "    # Probability of measuring |1⟩\n",
        "    prob_1 = qt.expect(P_1, state_init)\n",
        "    theory.append(prob_1)"
      ],
      "metadata": {
        "id": "CaAwKb6xpyPT"
      },
      "execution_count": 3,
      "outputs": []
    },
    {
      "cell_type": "code",
      "source": [
        "def plotting(theta, fun1, fun2=None):\n",
        "  plt.figure(figsize=(8, 5))\n",
        "  if fun2 is None:\n",
        "    A= \"No Attack\"\n",
        "  else:\n",
        "    A = \"pulse attack\"\n",
        "    plt.plot(theta / np.pi, fun2, label='No Attack', color='blue')\n",
        "  plt.plot(theta / np.pi, fun1, label=A, color='red')\n",
        "  plt.xlabel(r\"Input State Rotation Angle $\\theta/\\pi$\")\n",
        "  plt.ylabel(r'Probability of measuring $|1\\rangle$')\n",
        "  plt.title(r'$\\langle 1 | \\psi_\\theta \\rangle^2$ vs $\\theta$')\n",
        "  plt.grid(True)\n",
        "  plt.legend()\n",
        "  plt.tight_layout()\n",
        "  plt.show()"
      ],
      "metadata": {
        "id": "lU9SHleTH_lN"
      },
      "execution_count": 4,
      "outputs": []
    },
    {
      "cell_type": "markdown",
      "source": [
        "# Pulse Attack"
      ],
      "metadata": {
        "id": "L8Lc8tyLw6K1"
      }
    },
    {
      "cell_type": "code",
      "source": [
        "sx, sy, sz = qt.sigmax(), qt.sigmay(), qt.sigmaz()\n",
        "I = qt.qeye(2)\n",
        "\n",
        "paulis = [I, sx, sy, sz]\n",
        "pauli_labels = ['I', 'X', 'Y', 'Z']"
      ],
      "metadata": {
        "id": "sYoTFuw8vkUk"
      },
      "execution_count": 5,
      "outputs": []
    },
    {
      "cell_type": "code",
      "source": [
        "def build_adam_state(theta):\n",
        "    psi_theta = (np.cos(theta) * qt.basis(2, 0) + np.sin(theta) * qt.basis(2, 1)).unit()\n",
        "    zero = qt.basis(2, 0)\n",
        "    return qt.tensor(zero, zero, psi_theta)"
      ],
      "metadata": {
        "id": "3F-0p6Gym_eO"
      },
      "execution_count": 6,
      "outputs": []
    },
    {
      "cell_type": "code",
      "source": [
        "def pulse_shape(shape=\"cos\", A=1.0, delta=0.0, sigma=0.1, alpha=0.5, chirp_rate=0.0):\n",
        "\n",
        "    if shape == \"cos\":\n",
        "        return lambda t, args: A * np.cos(delta * t)\n",
        "\n",
        "    elif shape == \"gaussian\":\n",
        "        return lambda t, args: A * np.exp(-((t - 0.5)**2) / (2 * sigma**2))\n",
        "\n",
        "    elif shape == \"square\":\n",
        "        return lambda t, args: A if 0.3 <= t <= 0.7 else 0.0\n",
        "\n",
        "    elif shape == \"chirp\":\n",
        "        return lambda t, args: A * np.cos((delta + chirp_rate * t) * t)\n",
        "\n",
        "    elif shape == \"drag\":\n",
        "        return lambda t, args: A * (np.exp(-((t - 0.5)**2)/(2 * sigma**2))\n",
        "                                   - alpha * (t - 0.5) / sigma**2 * np.exp(-((t - 0.5)**2)/(2 * sigma**2)))\n",
        "\n",
        "    else:\n",
        "        raise ValueError(f\"Unknown pulse shape: {shape}\")\n"
      ],
      "metadata": {
        "id": "-U1pzQI70EkH"
      },
      "execution_count": 7,
      "outputs": []
    },
    {
      "cell_type": "code",
      "source": [
        "def apply_eve_multi_attack(state_pre, J12=0.1, J01=0.1, A=(1.0, 1.0),\n",
        "                            delta=(0.0, 0.0), coup_12=(qt.sigmaz(), qt.sigmax()),\n",
        "                            coup_01=(qt.sigmax(), qt.sigmax()),\n",
        "                            shape=(\"cos\", \"cos\"),\n",
        "                            extra_params=({}, {})):\n",
        "    A0, A1 = A\n",
        "    delta0, delta1 = delta\n",
        "    s1_12, s2_12 = coup_12\n",
        "    s0_01, s1_01 = coup_01\n",
        "    shape0, shape1 = shape\n",
        "    kwargs0, kwargs1 = extra_params\n",
        "\n",
        "    I = qt.qeye(2)\n",
        "\n",
        "    # Coupling terms\n",
        "    H_couple_12 = J12 * qt.tensor(I, s1_12, s2_12)\n",
        "    H_couple_01 = J01 * qt.tensor(s0_01, s1_01, I)\n",
        "\n",
        "    # Time-dependent drive terms\n",
        "    coeff0 = pulse_shape(shape=shape0, A=A0, delta=delta0, **kwargs0)\n",
        "    coeff1 = pulse_shape(shape=shape1, A=A1, delta=delta1, **kwargs1)\n",
        "\n",
        "    H_p0 = [qt.tensor(qt.sigmax(), I, I), coeff0]\n",
        "    H_p1 = [qt.tensor(I, qt.sigmax(), I), coeff1]\n",
        "\n",
        "    H = [H_couple_12, H_couple_01, H_p0, H_p1]\n",
        "\n",
        "    t_attack = np.linspace(0, 1.0, 50)\n",
        "    sol = qt.mesolve(H, state_pre, t_attack, [], [])\n",
        "    return sol.states[-1]\n"
      ],
      "metadata": {
        "id": "gsK7B29gvljA"
      },
      "execution_count": 8,
      "outputs": []
    },
    {
      "cell_type": "code",
      "source": [
        "def measure_with_eve(theta_vals, J12=0.1, J01=0.1, A=(1.0, 1.0),\n",
        "                     delta=(0.0, 0.0), coup_12=(qt.sigmaz(), qt.sigmax()),\n",
        "                     coup_01=(qt.sigmax(), qt.sigmax()),\n",
        "                     shape=(\"cos\", \"cos\"), extra_params=({}, {})):\n",
        "    probs_attack = []\n",
        "    for theta in theta_vals:\n",
        "        state_init = build_adam_state(theta)\n",
        "        state_post = apply_eve_multi_attack(\n",
        "            state_init,\n",
        "            J12=J12, J01=J01,\n",
        "            A=A, delta=delta,\n",
        "            coup_12=coup_12, coup_01=coup_01,\n",
        "            shape=shape, extra_params=extra_params\n",
        "        )\n",
        "        state_q2 = state_post.ptrace(2)\n",
        "        P_1 = qt.basis(2, 1) * qt.basis(2, 1).dag()\n",
        "        prob_1 = qt.expect(P_1, state_q2)\n",
        "        probs_attack.append(prob_1)\n",
        "    return probs_attack"
      ],
      "metadata": {
        "id": "frADLdH6wsPn"
      },
      "execution_count": 9,
      "outputs": []
    },
    {
      "cell_type": "markdown",
      "source": [
        "# Quantum Process Tomography"
      ],
      "metadata": {
        "id": "d9kLdiXfanah"
      }
    },
    {
      "cell_type": "code",
      "source": [
        "def prepare_input_states():\n",
        "    return [\n",
        "        qt.basis(2, 0),  # |0⟩\n",
        "        qt.basis(2, 1),  # |1⟩\n",
        "        (qt.basis(2, 0) + qt.basis(2, 1)).unit(),  # |+⟩\n",
        "        (qt.basis(2, 0) + 1j * qt.basis(2, 1)).unit()  # |+i⟩\n",
        "    ]"
      ],
      "metadata": {
        "id": "CHmNZ4XIamhK"
      },
      "execution_count": 10,
      "outputs": []
    },
    {
      "cell_type": "code",
      "source": [
        "def apply_eve_process_on_q2(input_state,\n",
        "                            J12=0.1, J01=0.1,\n",
        "                            A=(1.0, 1.0),\n",
        "                            delta=(0.0, 0.0),\n",
        "                            coup_12=(qt.sigmaz(), qt.sigmax()),\n",
        "                            coup_01=(qt.sigmax(), qt.sigmax()),\n",
        "                            shape=(\"cos\", \"cos\"),\n",
        "                            extra_params=({}, {})):\n",
        "    full_state = qt.tensor(qt.basis(2, 0), qt.basis(2, 0), input_state)\n",
        "    final_state = apply_eve_multi_attack(\n",
        "        state_pre=full_state,\n",
        "        J12=J12,\n",
        "        J01=J01,\n",
        "        A=A,\n",
        "        delta=delta,\n",
        "        coup_12=coup_12,\n",
        "        coup_01=coup_01,\n",
        "        shape=shape,\n",
        "        extra_params=extra_params\n",
        "    )\n",
        "    return final_state.ptrace(2)"
      ],
      "metadata": {
        "id": "3nVp9A2LnIuV"
      },
      "execution_count": 11,
      "outputs": []
    },
    {
      "cell_type": "code",
      "source": [
        "def perform_qpt(J12=0.2, J01=0.1, A=(1.0, 1.0), delta=(0.0, 0.0),\n",
        "                coup_12=(qt.sigmaz(), qt.sigmax()), coup_01=(qt.sigmax(), qt.sigmax()),\n",
        "                shape=(\"cos\", \"cos\"), extra_params=({}, {})):\n",
        "\n",
        "    paulis = [qt.qeye(2), qt.sigmax(), qt.sigmay(), qt.sigmaz()]\n",
        "    labels = [\"I\", \"X\", \"Y\", \"Z\"]\n",
        "    N = len(paulis)\n",
        "    chi = np.zeros((N, N), dtype=complex)\n",
        "\n",
        "    input_states = prepare_input_states()\n",
        "    output_states = [\n",
        "        apply_eve_process_on_q2(psi,\n",
        "                                J12=J12, J01=J01, A=A,\n",
        "                                delta=delta,\n",
        "                                coup_12=coup_12, coup_01=coup_01,\n",
        "                                shape=shape,\n",
        "                                extra_params=extra_params)\n",
        "        for psi in input_states\n",
        "    ]\n",
        "\n",
        "    for m, Em in enumerate(paulis):\n",
        "        for n, En in enumerate(paulis):\n",
        "            acc = 0.0\n",
        "            for i, psi_in in enumerate(input_states):\n",
        "                rho_in = psi_in * psi_in.dag()\n",
        "                term = (Em * rho_in * En.dag())\n",
        "                acc += (term * output_states[i]).tr()\n",
        "            chi[m, n] = acc / 2.0  # normalization\n",
        "\n",
        "    return qt.Qobj(chi), labels\n"
      ],
      "metadata": {
        "id": "QCKUxsP1nJgl"
      },
      "execution_count": 12,
      "outputs": []
    },
    {
      "cell_type": "code",
      "source": [
        "def plot_chi_matrix(chi_matrix, title='Chi Matrix'):\n",
        "    fig, ax = plt.subplots(figsize=(6, 5))\n",
        "    cax = ax.matshow(np.abs(chi_matrix), cmap='viridis')\n",
        "    fig.colorbar(cax)\n",
        "    ax.set_xticks(range(4))\n",
        "    ax.set_yticks(range(4))\n",
        "    ax.set_xticklabels(pauli_labels)\n",
        "    ax.set_yticklabels(pauli_labels)\n",
        "    plt.title(title)\n",
        "    plt.xlabel('n')\n",
        "    plt.ylabel('m')\n",
        "    plt.tight_layout()\n",
        "    plt.show()"
      ],
      "metadata": {
        "id": "KgShd_dja_Ul"
      },
      "execution_count": 13,
      "outputs": []
    },
    {
      "cell_type": "code",
      "source": [
        "chi, label = perform_qpt(\n",
        "    J12=0.2,\n",
        "    J01=0.1,\n",
        "    A=(1.0, 0.5),\n",
        "    delta=(0.0, 0.0),\n",
        "    coup_12=(qt.sigmaz(), qt.sigmax()),\n",
        "    coup_01=(qt.sigmay(), qt.sigmax()),\n",
        "    shape=(\"cos\", \"chirp\"),\n",
        "    extra_params=({}, {\"chirp_rate\": 5.0})\n",
        ")\n",
        "\n",
        "from qiskit.visualization import array_to_latex as show"
      ],
      "metadata": {
        "colab": {
          "base_uri": "https://localhost:8080/"
        },
        "id": "wB9vA1i9nQ0p",
        "outputId": "78d402d8-7a73-4841-9ac4-69a6582b55c4"
      },
      "execution_count": 14,
      "outputs": [
        {
          "output_type": "stream",
          "name": "stderr",
          "text": [
            "/usr/local/lib/python3.11/dist-packages/qutip/solver/solver_base.py:576: FutureWarning: e_ops will be keyword only from qutip 5.3 for all solver\n",
            "  warnings.warn(\n"
          ]
        }
      ]
    },
    {
      "cell_type": "code",
      "source": [
        "# Extract Kraus operators from the chi matrix\n",
        "def kraus_operators_from_chi(chi):\n",
        "    eigvals, eigvecs = np.linalg.eigh(chi)\n",
        "    kraus_ops = []\n",
        "    for i in range(len(eigvals)):\n",
        "        if np.abs(eigvals[i]) > 1e-6:\n",
        "            kraus_matrix = sum(\n",
        "                eigvecs[j, i] * paulis[j] for j in range(4)\n",
        "            )\n",
        "            kraus_ops.append(np.sqrt(eigvals[i]) * kraus_matrix)\n",
        "    return kraus_ops\n",
        "kraus_ops = kraus_operators_from_chi(chi.full())"
      ],
      "metadata": {
        "id": "dsNUGndQrTXY"
      },
      "execution_count": 15,
      "outputs": []
    },
    {
      "cell_type": "markdown",
      "source": [
        "#Choi"
      ],
      "metadata": {
        "id": "q_DWk_vFk_7x"
      }
    },
    {
      "cell_type": "code",
      "source": [
        "def chi_to_superop(chi):\n",
        "    superop = 0\n",
        "    for m, Em in enumerate(paulis):\n",
        "        for n, En in enumerate(paulis):\n",
        "            kron = qt.tensor(Em, En.conj())\n",
        "            superop += chi[m, n] * kron\n",
        "    return Qobj(superop)\n",
        "\n",
        "chi_identity = np.zeros((4, 4), dtype=complex)\n",
        "chi_identity[0, 0] = 1.0  # Identity channel"
      ],
      "metadata": {
        "id": "ef7QAQRDlBRF"
      },
      "execution_count": 16,
      "outputs": []
    },
    {
      "cell_type": "markdown",
      "source": [
        "#K=U.P (polar decomposition)"
      ],
      "metadata": {
        "id": "-ddpRpHVtj12"
      }
    },
    {
      "cell_type": "code",
      "source": [
        "def U_theta(theta):\n",
        "    return ry(theta)\n",
        "\n",
        "def build_theoretical_kraus(theta):\n",
        "    return [\n",
        "        (1/2) * qt.qeye(2),\n",
        "        (1/2) * U_theta(-theta) * qt.sigmax() * U_theta(theta),\n",
        "        (1/2) * qt.sigmax(),\n",
        "        (1/2) * U_theta(-theta) * qt.sigmax() * U_theta(theta) * qt.sigmax()\n",
        "    ]\n",
        "\n",
        "polar_U = []\n",
        "polar_P = []\n",
        "for K in kraus_ops:\n",
        "    U, P = polar(K.full())\n",
        "    polar_U.append(U)\n",
        "    polar_P.append(P)"
      ],
      "metadata": {
        "id": "gT3EIdDwpMDl"
      },
      "execution_count": 17,
      "outputs": []
    },
    {
      "cell_type": "code",
      "source": [
        "def fit_isometry(theoretical_kraus, penalty_weight=100):\n",
        "    def isometry_loss(flat_u):\n",
        "        U_iso = flat_u.reshape((4,4))\n",
        "        transformed_kraus = [\n",
        "            sum(U_iso[i, j] * polar_U[j] @ polar_P[j] for j in range(4))\n",
        "            for i in range(4)\n",
        "        ]\n",
        "        loss = sum(np.linalg.norm(transformed_kraus[i] - theoretical_kraus[i].full())**2\n",
        "                   for i in range(4))\n",
        "        return loss\n",
        "\n",
        "    def unitary_penalty(flat_u):\n",
        "        U_iso = flat_u.reshape((4,4))\n",
        "        return np.linalg.norm(U_iso @ U_iso.conj().T - np.eye(4))**2\n",
        "\n",
        "    def total_loss(flat_u, penalty_weight=100):\n",
        "        return isometry_loss(flat_u) + penalty_weight * unitary_penalty(flat_u)\n",
        "\n",
        "    init_guess = np.eye(4).flatten()\n",
        "    result = minimize(total_loss, init_guess, args=(penalty_weight,), method='BFGS')\n",
        "    final_loss = isometry_loss(result.x)\n",
        "    return final_loss, result.x.reshape((4,4)), unitary_penalty(result.x)"
      ],
      "metadata": {
        "id": "tFlTndML0MQU"
      },
      "execution_count": 18,
      "outputs": []
    },
    {
      "cell_type": "code",
      "source": [
        "# ---- SWEEP θ ----\n",
        "theta_vals = np.linspace(0, 2*np.pi, 100)\n",
        "losses = []\n",
        "thetas = []\n",
        "unitary_errors = []\n",
        "for theta in theta_vals:\n",
        "    theoretical_kraus = build_theoretical_kraus(theta)\n",
        "    loss, U_isometry, unitarity_err = fit_isometry(theoretical_kraus, penalty_weight=100)\n",
        "    losses.append(loss)\n",
        "    thetas.append(theta)\n",
        "    unitary_errors.append(unitarity_err)"
      ],
      "metadata": {
        "id": "iIF1r1fy069v"
      },
      "execution_count": 19,
      "outputs": []
    },
    {
      "cell_type": "code",
      "source": [
        "# Find best θ\n",
        "best_idx = np.argmin(losses)\n",
        "best_theta = thetas[best_idx]\n",
        "best_loss = losses[best_idx]\n",
        "best_unitary_err = unitary_errors[best_idx]\n",
        "\n",
        "print(f\"Best fit θ (rad): {best_theta}\")\n",
        "print(f\"Minimum Loss: {best_loss:.4e}\")\n",
        "print(f\"Unitarity Error: {best_unitary_err:.4e}\")\n",
        "\n",
        "# Plot losses vs theta\n",
        "import matplotlib.pyplot as plt\n",
        "plt.plot(thetas, losses)\n",
        "plt.xlabel(\"θ (rad)\")\n",
        "plt.ylabel(\"Fit Loss\")\n",
        "plt.title(\"Isometry-fit Loss vs θ for Ry(θ) Model\")\n",
        "plt.show()"
      ],
      "metadata": {
        "colab": {
          "base_uri": "https://localhost:8080/",
          "height": 523
        },
        "id": "R19dSeh30hes",
        "outputId": "ec64a47b-3192-4ce8-9b44-40c4ba822fac"
      },
      "execution_count": 20,
      "outputs": [
        {
          "output_type": "stream",
          "name": "stdout",
          "text": [
            "Best fit θ (rad): 0.9519977738150889\n",
            "Minimum Loss: 4.3010e+00\n",
            "Unitarity Error: 2.8865e-04\n"
          ]
        },
        {
          "output_type": "display_data",
          "data": {
            "text/plain": [
              "<Figure size 640x480 with 1 Axes>"
            ],
            "image/png": "[encoded data removed]"
          },
          "metadata": {}
        }
      ]
    }
  ]
}