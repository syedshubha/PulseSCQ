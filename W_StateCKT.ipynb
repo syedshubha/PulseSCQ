{
  "nbformat": 4,
  "nbformat_minor": 0,
  "metadata": {
    "colab": {
      "provenance": [],
      "authorship_tag": "ABX9TyPFR7U+n5CDhTmBLIgqNMzr",
      "include_colab_link": true
    },
    "kernelspec": {
      "name": "python3",
      "display_name": "Python 3"
    },
    "language_info": {
      "name": "python"
    }
  },
  "cells": [
    {
      "cell_type": "markdown",
      "metadata": {
        "id": "view-in-github",
        "colab_type": "text"
      },
      "source": [
        "<a href=\"https://colab.research.google.com/github/syedshubha/PulseSCQ/blob/main/W_StateCKT.ipynb\" target=\"_parent\"><img src=\"https://colab.research.google.com/assets/colab-badge.svg\" alt=\"Open In Colab\"/></a>"
      ]
    },
    {
      "cell_type": "code",
      "execution_count": 1,
      "metadata": {
        "id": "vPMkaZ-x9hLq"
      },
      "outputs": [],
      "source": [
        "# Installing required packages\n",
        "%%capture\n",
        "!pip install --quiet qiskit qiskit-aer pylatexenc qiskit-ibm-runtime qiskit-dynamics &> /dev/null"
      ]
    },
    {
      "cell_type": "markdown",
      "source": [
        "#$|W\\rangle = \\frac{1}{\\sqrt{3}}(\\left|001\\rangle+|010\\rangle+|100\\rangle\\right)$\n",
        "We want to create the state using gate level coding first."
      ],
      "metadata": {
        "id": "gItsQfkms0zh"
      }
    },
    {
      "cell_type": "code",
      "source": [
        "from qiskit_aer import *\n",
        "from qiskit import *\n",
        "from numpy import *\n",
        "import warnings\n",
        "import getpass\n",
        "\n",
        "from qiskit_ibm_runtime import QiskitRuntimeService\n",
        "from qiskit.visualization import array_to_latex as show"
      ],
      "metadata": {
        "id": "-Uzax8V5s0KP"
      },
      "execution_count": 2,
      "outputs": []
    },
    {
      "cell_type": "code",
      "source": [
        "simulator = AerSimulator(method='statevector')\n",
        "\n",
        "qc = QuantumCircuit(3,1)\n",
        "theta = 2 * acos(1 / sqrt(3))\n",
        "\n",
        "qc.ry(theta,0)\n",
        "qc.cry(pi/2,0,1)\n",
        "qc.cx(1,2)\n",
        "qc.cx(0,1)\n",
        "qc.x(0)\n",
        "\n",
        "qc.save_statevector()\n",
        "show(simulator.run(qc).result().get_statevector())"
      ],
      "metadata": {
        "colab": {
          "base_uri": "https://localhost:8080/",
          "height": 47
        },
        "id": "lC5uW03N_DTP",
        "outputId": "9256e5c4-4264-40ba-b5c5-809db73c6007"
      },
      "execution_count": 3,
      "outputs": [
        {
          "output_type": "execute_result",
          "data": {
            "text/plain": [
              "<IPython.core.display.Latex object>"
            ],
            "text/latex": "$$\n\n\\begin{bmatrix}\n0 & \\frac{\\sqrt{3}}{3} & \\frac{\\sqrt{3}}{3} & 0 & \\frac{\\sqrt{3}}{3} & 0 & 0 & 0  \\\\\n \\end{bmatrix}\n$$"
          },
          "metadata": {},
          "execution_count": 3
        }
      ]
    },
    {
      "cell_type": "code",
      "source": [
        "q = QuantumCircuit(3,1)\n",
        "theta = 2 * acos(1 / sqrt(3))\n",
        "\n",
        "q.ry(theta,0)\n",
        "q.ry(pi/4,1)\n",
        "q.cx(0,1)\n",
        "q.ry(-pi/4,1)\n",
        "q.cx(1,2)\n",
        "q.cx(0,1)\n",
        "q.x(0)\n",
        "\n",
        "q.save_statevector()\n",
        "show(simulator.run(q).result().get_statevector())"
      ],
      "metadata": {
        "colab": {
          "base_uri": "https://localhost:8080/",
          "height": 47
        },
        "id": "VwX-s_dYbB4Y",
        "outputId": "a5c8ebba-17f1-4a81-fa97-42030c66e58b"
      },
      "execution_count": 4,
      "outputs": [
        {
          "output_type": "execute_result",
          "data": {
            "text/plain": [
              "<IPython.core.display.Latex object>"
            ],
            "text/latex": "$$\n\n\\begin{bmatrix}\n0 & \\frac{\\sqrt{3}}{3} & \\frac{\\sqrt{3}}{3} & 0 & \\frac{\\sqrt{3}}{3} & 0 & 0 & 0  \\\\\n \\end{bmatrix}\n$$"
          },
          "metadata": {},
          "execution_count": 4
        }
      ]
    },
    {
      "cell_type": "code",
      "source": [
        "q.measure(0,0)\n",
        "q.draw(\"mpl\")"
      ],
      "metadata": {
        "colab": {
          "base_uri": "https://localhost:8080/",
          "height": 320
        },
        "id": "g4WI3G40bHy8",
        "outputId": "cf694ffb-5f76-415b-d645-71a073457e94"
      },
      "execution_count": 5,
      "outputs": [
        {
          "output_type": "execute_result",
          "data": {
            "text/plain": [
              "<Figure size 956.385x367.889 with 1 Axes>"
            ],
            "image/png": "[encoded data removed]"
          },
          "metadata": {},
          "execution_count": 5
        }
      ]
    },
    {
      "cell_type": "code",
      "source": [
        "q.draw(\"latex_source\")"
      ],
      "metadata": {
        "colab": {
          "base_uri": "https://localhost:8080/",
          "height": 137
        },
        "id": "9P83mLgkuOUT",
        "outputId": "b768b224-ae2f-4f06-e50c-f4756d847e73"
      },
      "execution_count": 6,
      "outputs": [
        {
          "output_type": "execute_result",
          "data": {
            "text/plain": [
              "'\\\\documentclass[border=2px]{standalone}\\n\\n\\\\usepackage[braket, qm]{qcircuit}\\n\\\\usepackage{graphicx}\\n\\n\\\\begin{document}\\n\\\\scalebox{1.0}{\\n\\\\Qcircuit @C=1.0em @R=0.2em @!R { \\\\\\\\\\n\\t \\t\\\\nghost{{q}_{0} :  } & \\\\lstick{{q}_{0} :  } & \\\\gate{\\\\mathrm{R_Y}\\\\,(\\\\mathrm{1.911})} & \\\\ctrl{1} & \\\\qw & \\\\qw & \\\\ctrl{1} & \\\\gate{\\\\mathrm{X}} \\\\barrier[0em]{2} & \\\\cds{0}{^{\\\\mathrm{statevector}}} & \\\\meter & \\\\qw & \\\\qw\\\\\\\\\\n\\t \\t\\\\nghost{{q}_{1} :  } & \\\\lstick{{q}_{1} :  } & \\\\gate{\\\\mathrm{R_Y}\\\\,(\\\\mathrm{\\\\frac{\\\\pi}{4}})} & \\\\targ & \\\\gate{\\\\mathrm{R_Y}\\\\,(\\\\mathrm{\\\\frac{-\\\\pi}{4}})} & \\\\ctrl{1} & \\\\targ & \\\\qw & \\\\qw & \\\\qw & \\\\qw & \\\\qw\\\\\\\\\\n\\t \\t\\\\nghost{{q}_{2} :  } & \\\\lstick{{q}_{2} :  } & \\\\qw & \\\\qw & \\\\qw & \\\\targ & \\\\qw & \\\\qw & \\\\qw & \\\\qw & \\\\qw & \\\\qw\\\\\\\\\\n\\t \\t\\\\nghost{\\\\mathrm{{c} :  }} & \\\\lstick{\\\\mathrm{{c} :  }} & \\\\lstick{/_{_{1}}} \\\\cw & \\\\cw & \\\\cw & \\\\cw & \\\\cw & \\\\cw & \\\\cw & \\\\dstick{_{_{\\\\hspace{0.0em}0}}} \\\\cw \\\\ar @{<=} [-3,0] & \\\\cw & \\\\cw\\\\\\\\\\n\\\\\\\\ }}\\n\\\\end{document}'"
            ],
            "application/vnd.google.colaboratory.intrinsic+json": {
              "type": "string"
            }
          },
          "metadata": {},
          "execution_count": 6
        }
      ]
    }
  ]
}