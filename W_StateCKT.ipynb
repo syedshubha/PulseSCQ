{
  "nbformat": 4,
  "nbformat_minor": 0,
  "metadata": {
    "colab": {
      "provenance": [],
      "include_colab_link": true
    },
    "kernelspec": {
      "name": "python3",
      "display_name": "Python 3"
    },
    "language_info": {
      "name": "python"
    }
  },
  "cells": [
    {
      "cell_type": "markdown",
      "metadata": {
        "id": "view-in-github",
        "colab_type": "text"
      },
      "source": [
        "<a href=\"https://colab.research.google.com/github/syedshubha/PulseSCQ/blob/main/W_StateCKT.ipynb\" target=\"_parent\"><img src=\"https://colab.research.google.com/assets/colab-badge.svg\" alt=\"Open In Colab\"/></a>"
      ]
    },
    {
      "cell_type": "code",
      "execution_count": 1,
      "metadata": {
        "id": "vPMkaZ-x9hLq"
      },
      "outputs": [],
      "source": [
        "# Installing required packages\n",
        "%%capture\n",
        "!pip install --quiet qiskit qiskit-aer pylatexenc qiskit-ibm-runtime qiskit-dynamics &> /dev/null"
      ]
    },
    {
      "cell_type": "markdown",
      "source": [
        "#$|W\\rangle = \\frac{1}{\\sqrt{3}}(\\left|001\\rangle+|010\\rangle+|100\\rangle\\right)$\n",
        "We want to create the state using gate level coding first."
      ],
      "metadata": {
        "id": "gItsQfkms0zh"
      }
    },
    {
      "cell_type": "code",
      "source": [
        "from qiskit_aer import *\n",
        "from qiskit import *\n",
        "from numpy import *\n",
        "import warnings\n",
        "import getpass\n",
        "\n",
        "from qiskit_ibm_runtime import QiskitRuntimeService\n",
        "from qiskit.visualization import array_to_latex as show"
      ],
      "metadata": {
        "id": "-Uzax8V5s0KP"
      },
      "execution_count": 2,
      "outputs": []
    },
    {
      "cell_type": "code",
      "source": [
        "simulator = AerSimulator(method='statevector')\n",
        "\n",
        "qc = QuantumCircuit(3,1)\n",
        "theta = 2 * acos(1 / sqrt(3))\n",
        "\n",
        "qc.ry(theta,0)\n",
        "qc.cry(pi/2,0,1)\n",
        "qc.cx(1,2)\n",
        "qc.cx(0,1)\n",
        "qc.x(0)\n",
        "\n",
        "qc.save_statevector()\n",
        "show(simulator.run(qc).result().get_statevector())"
      ],
      "metadata": {
        "colab": {
          "base_uri": "https://localhost:8080/",
          "height": 47
        },
        "id": "lC5uW03N_DTP",
        "outputId": "6e8c1230-0073-4b5f-bdeb-1ad3d0c54338"
      },
      "execution_count": 3,
      "outputs": [
        {
          "output_type": "execute_result",
          "data": {
            "text/plain": [
              "<IPython.core.display.Latex object>"
            ],
            "text/latex": "$$\n\n\\begin{bmatrix}\n0 & \\frac{\\sqrt{3}}{3} & \\frac{\\sqrt{3}}{3} & 0 & \\frac{\\sqrt{3}}{3} & 0 & 0 & 0  \\\\\n \\end{bmatrix}\n$$"
          },
          "metadata": {},
          "execution_count": 3
        }
      ]
    },
    {
      "cell_type": "code",
      "source": [
        "qc.measure(0,0)\n",
        "qc.draw(\"mpl\", initial_state=True)"
      ],
      "metadata": {
        "id": "8szX3fSoOwmV",
        "outputId": "f090cf7d-c8f7-4a31-a79b-8647b50ee5ea",
        "colab": {
          "base_uri": "https://localhost:8080/",
          "height": 320
        }
      },
      "execution_count": 4,
      "outputs": [
        {
          "output_type": "execute_result",
          "data": {
            "text/plain": [
              "<Figure size 925.456x367.889 with 1 Axes>"
            ],
            "image/png": "[encoded data removed]"
          },
          "metadata": {},
          "execution_count": 4
        }
      ]
    },
    {
      "cell_type": "code",
      "source": [
        "qc.draw(\"latex_source\")"
      ],
      "metadata": {
        "id": "uB5TST0pO7TC",
        "outputId": "7be62a7e-419b-4647-c8b9-251d907d5dd3",
        "colab": {
          "base_uri": "https://localhost:8080/",
          "height": 120
        }
      },
      "execution_count": 5,
      "outputs": [
        {
          "output_type": "execute_result",
          "data": {
            "text/plain": [
              "'\\\\documentclass[border=2px]{standalone}\\n\\n\\\\usepackage[braket, qm]{qcircuit}\\n\\\\usepackage{graphicx}\\n\\n\\\\begin{document}\\n\\\\scalebox{1.0}{\\n\\\\Qcircuit @C=1.0em @R=0.2em @!R { \\\\\\\\\\n\\t \\t\\\\nghost{{q}_{0} :  } & \\\\lstick{{q}_{0} :  } & \\\\gate{\\\\mathrm{R_Y}\\\\,(\\\\mathrm{1.911})} & \\\\ctrl{1} & \\\\qw & \\\\ctrl{1} & \\\\gate{\\\\mathrm{X}} \\\\barrier[0em]{2} & \\\\cds{0}{^{\\\\mathrm{statevector}}} & \\\\meter & \\\\qw & \\\\qw\\\\\\\\\\n\\t \\t\\\\nghost{{q}_{1} :  } & \\\\lstick{{q}_{1} :  } & \\\\qw & \\\\gate{\\\\mathrm{R_Y}\\\\,(\\\\mathrm{\\\\frac{\\\\pi}{2}})} & \\\\ctrl{1} & \\\\targ & \\\\qw & \\\\qw & \\\\qw & \\\\qw & \\\\qw\\\\\\\\\\n\\t \\t\\\\nghost{{q}_{2} :  } & \\\\lstick{{q}_{2} :  } & \\\\qw & \\\\qw & \\\\targ & \\\\qw & \\\\qw & \\\\qw & \\\\qw & \\\\qw & \\\\qw\\\\\\\\\\n\\t \\t\\\\nghost{\\\\mathrm{{c} :  }} & \\\\lstick{\\\\mathrm{{c} :  }} & \\\\lstick{/_{_{1}}} \\\\cw & \\\\cw & \\\\cw & \\\\cw & \\\\cw & \\\\cw & \\\\dstick{_{_{\\\\hspace{0.0em}0}}} \\\\cw \\\\ar @{<=} [-3,0] & \\\\cw & \\\\cw\\\\\\\\\\n\\\\\\\\ }}\\n\\\\end{document}'"
            ],
            "application/vnd.google.colaboratory.intrinsic+json": {
              "type": "string"
            }
          },
          "metadata": {},
          "execution_count": 5
        }
      ]
    },
    {
      "cell_type": "code",
      "source": [
        "q = QuantumCircuit(3,1)\n",
        "theta = 2 * acos(1 / sqrt(3))\n",
        "\n",
        "q.ry(theta,0)\n",
        "q.ry(pi/4,1)\n",
        "q.cx(0,1)\n",
        "q.ry(-pi/4,1)\n",
        "q.cx(1,2)\n",
        "q.cx(0,1)\n",
        "q.x(0)\n",
        "\n",
        "q.save_statevector()\n",
        "show(simulator.run(q).result().get_statevector())"
      ],
      "metadata": {
        "colab": {
          "base_uri": "https://localhost:8080/",
          "height": 47
        },
        "id": "VwX-s_dYbB4Y",
        "outputId": "0eb7ff9c-62b1-493a-d812-41dbfd3a24aa"
      },
      "execution_count": 6,
      "outputs": [
        {
          "output_type": "execute_result",
          "data": {
            "text/plain": [
              "<IPython.core.display.Latex object>"
            ],
            "text/latex": "$$\n\n\\begin{bmatrix}\n0 & \\frac{\\sqrt{3}}{3} & \\frac{\\sqrt{3}}{3} & 0 & \\frac{\\sqrt{3}}{3} & 0 & 0 & 0  \\\\\n \\end{bmatrix}\n$$"
          },
          "metadata": {},
          "execution_count": 6
        }
      ]
    },
    {
      "cell_type": "code",
      "source": [
        "q.measure(0,0)\n",
        "q.draw(\"mpl\")"
      ],
      "metadata": {
        "colab": {
          "base_uri": "https://localhost:8080/",
          "height": 320
        },
        "id": "g4WI3G40bHy8",
        "outputId": "55d806be-eb9e-4cfc-fe1a-5872e1209aa5"
      },
      "execution_count": 7,
      "outputs": [
        {
          "output_type": "execute_result",
          "data": {
            "text/plain": [
              "<Figure size 956.385x367.889 with 1 Axes>"
            ],
            "image/png": "[encoded data removed]"
          },
          "metadata": {},
          "execution_count": 7
        }
      ]
    },
    {
      "cell_type": "code",
      "source": [
        "q.draw(\"latex_source\")"
      ],
      "metadata": {
        "colab": {
          "base_uri": "https://localhost:8080/",
          "height": 137
        },
        "id": "9P83mLgkuOUT",
        "outputId": "660b128b-7b40-45dc-f386-7ad230a9d783"
      },
      "execution_count": 8,
      "outputs": [
        {
          "output_type": "execute_result",
          "data": {
            "text/plain": [
              "'\\\\documentclass[border=2px]{standalone}\\n\\n\\\\usepackage[braket, qm]{qcircuit}\\n\\\\usepackage{graphicx}\\n\\n\\\\begin{document}\\n\\\\scalebox{1.0}{\\n\\\\Qcircuit @C=1.0em @R=0.2em @!R { \\\\\\\\\\n\\t \\t\\\\nghost{{q}_{0} :  } & \\\\lstick{{q}_{0} :  } & \\\\gate{\\\\mathrm{R_Y}\\\\,(\\\\mathrm{1.911})} & \\\\ctrl{1} & \\\\qw & \\\\qw & \\\\ctrl{1} & \\\\gate{\\\\mathrm{X}} \\\\barrier[0em]{2} & \\\\cds{0}{^{\\\\mathrm{statevector}}} & \\\\meter & \\\\qw & \\\\qw\\\\\\\\\\n\\t \\t\\\\nghost{{q}_{1} :  } & \\\\lstick{{q}_{1} :  } & \\\\gate{\\\\mathrm{R_Y}\\\\,(\\\\mathrm{\\\\frac{\\\\pi}{4}})} & \\\\targ & \\\\gate{\\\\mathrm{R_Y}\\\\,(\\\\mathrm{\\\\frac{-\\\\pi}{4}})} & \\\\ctrl{1} & \\\\targ & \\\\qw & \\\\qw & \\\\qw & \\\\qw & \\\\qw\\\\\\\\\\n\\t \\t\\\\nghost{{q}_{2} :  } & \\\\lstick{{q}_{2} :  } & \\\\qw & \\\\qw & \\\\qw & \\\\targ & \\\\qw & \\\\qw & \\\\qw & \\\\qw & \\\\qw & \\\\qw\\\\\\\\\\n\\t \\t\\\\nghost{\\\\mathrm{{c} :  }} & \\\\lstick{\\\\mathrm{{c} :  }} & \\\\lstick{/_{_{1}}} \\\\cw & \\\\cw & \\\\cw & \\\\cw & \\\\cw & \\\\cw & \\\\cw & \\\\dstick{_{_{\\\\hspace{0.0em}0}}} \\\\cw \\\\ar @{<=} [-3,0] & \\\\cw & \\\\cw\\\\\\\\\\n\\\\\\\\ }}\\n\\\\end{document}'"
            ],
            "application/vnd.google.colaboratory.intrinsic+json": {
              "type": "string"
            }
          },
          "metadata": {},
          "execution_count": 8
        }
      ]
    },
    {
      "cell_type": "code",
      "source": [
        "import getpass\n",
        "from qiskit_ibm_runtime import QiskitRuntimeService\n",
        "import warnings\n",
        "\n",
        "token = getpass.getpass(\"Enter IBM Quantum API Token: \")\n",
        "QiskitRuntimeService.save_account(channel='ibm_quantum', token=token, overwrite=True)"
      ],
      "metadata": {
        "id": "ukKHKC05PGW0",
        "outputId": "dfca3966-baff-40c0-c6b7-cfdd797a4485",
        "colab": {
          "base_uri": "https://localhost:8080/"
        }
      },
      "execution_count": 9,
      "outputs": [
        {
          "name": "stdout",
          "output_type": "stream",
          "text": [
            "Enter IBM Quantum API Token: ··········\n"
          ]
        }
      ]
    },
    {
      "cell_type": "code",
      "source": [
        "def report_qubits(backend_name: str, qubits: list):\n",
        "    warnings.filterwarnings(\"ignore\", category=DeprecationWarning)\n",
        "    service = QiskitRuntimeService(channel=\"ibm_quantum\")\n",
        "    backend = service.backend(backend_name)\n",
        "    props   = backend.properties()\n",
        "    parameters = {}\n",
        "\n",
        "    print(f\"\\n=== Backend: {backend_name} ===\")\n",
        "    for q in qubits:\n",
        "        try:\n",
        "            t1  = props.t1(q) * 1e6\n",
        "            t2  = props.t2(q) * 1e6\n",
        "            ro  = props.readout_error(q)\n",
        "\n",
        "            parameters[q] = {\n",
        "                \"T1\": t1,\n",
        "                \"T2\": t2,\n",
        "                \"RO\": ro\n",
        "            }\n",
        "\n",
        "            if t1 and t2 and ro is not None:\n",
        "                print(f\"Qubit {q:2d}: Available — T1={t1:.1f} µs, T2={t2:.1f} µs, RO err={ro:.5f}\")\n",
        "            else:\n",
        "                print(f\"Qubit {q:2d}: Missing data\")\n",
        "        except Exception as e:\n",
        "            print(f\"Qubit {q:2d}: Error reading data ({e})\")\n",
        "    return parameters"
      ],
      "metadata": {
        "id": "SLS3s8HLPUzp"
      },
      "execution_count": 10,
      "outputs": []
    },
    {
      "cell_type": "code",
      "source": [
        "parameters= report_qubits(\"ibm_sherbrooke\",[1, 2, 3])"
      ],
      "metadata": {
        "id": "lW0yBlysPZuE",
        "outputId": "5ad3e9d0-e5a6-4121-d92b-414a72f6cca3",
        "colab": {
          "base_uri": "https://localhost:8080/"
        }
      },
      "execution_count": 11,
      "outputs": [
        {
          "output_type": "stream",
          "name": "stdout",
          "text": [
            "\n",
            "=== Backend: ibm_sherbrooke ===\n",
            "Qubit  1: Available — T1=306.4 µs, T2=307.0 µs, RO err=0.02222\n",
            "Qubit  2: Available — T1=260.3 µs, T2=200.5 µs, RO err=0.01270\n",
            "Qubit  3: Available — T1=396.7 µs, T2=386.5 µs, RO err=0.02490\n"
          ]
        }
      ]
    },
    {
      "cell_type": "code",
      "source": [
        "parameters"
      ],
      "metadata": {
        "id": "0Iv-ROIZPgZk",
        "outputId": "f0f5ca32-9072-4214-fc46-eded5e55d578",
        "colab": {
          "base_uri": "https://localhost:8080/"
        }
      },
      "execution_count": 12,
      "outputs": [
        {
          "output_type": "execute_result",
          "data": {
            "text/plain": [
              "{1: {'T1': 306.35738386608125, 'T2': 306.9797028120124, 'RO': 0.022216796875},\n",
              " 2: {'T1': 260.3211878308971, 'T2': 200.49666129986815, 'RO': 0.0126953125},\n",
              " 3: {'T1': 396.66745369903174, 'T2': 386.4530167494259, 'RO': 0.02490234375}}"
            ]
          },
          "metadata": {},
          "execution_count": 12
        }
      ]
    },
    {
      "cell_type": "code",
      "source": [
        "backend_name=\"ibm_sherbrooke\"\n",
        "warnings.filterwarnings(\"ignore\", category=DeprecationWarning)\n",
        "service = QiskitRuntimeService(channel=\"ibm_cloud\")\n",
        "backend = service.backend(backend_name)\n",
        "\n",
        "\n",
        "# --- Get Backend Properties ---\n",
        "backend_defaults = backend.defaults()\n",
        "backend_config = backend.configuration()\n",
        "backend_properties = backend.properties()\n",
        "dt = backend_config.dt # Sample time\n",
        "print(f\"Backend: {backend_name}\")\n",
        "print(f\"Sample time (dt): {dt*1e9:.3f} ns\")"
      ],
      "metadata": {
        "id": "SbR8s0OJPnfh",
        "outputId": "8341f75a-139b-4442-d0d1-5a195128e226",
        "colab": {
          "base_uri": "https://localhost:8080/"
        }
      },
      "execution_count": 13,
      "outputs": [
        {
          "output_type": "stream",
          "name": "stdout",
          "text": [
            "Backend: ibm_sherbrooke\n",
            "Sample time (dt): 0.222 ns\n"
          ]
        }
      ]
    },
    {
      "cell_type": "code",
      "source": [
        "q0, q1, q2 = 1, 2, 3\n",
        "print(f\"Using physical qubits: q0 -> {q0}, q1 -> {q1}, q2 -> {q2}\")\n",
        "\n",
        "# Get drive frequencies needed for single-qubit gates\n",
        "df0 = backend_defaults.qubit_freq_est[q0]\n",
        "df1 = backend_defaults.qubit_freq_est[q1]\n",
        "df2 = backend_defaults.qubit_freq_est[q2]\n",
        "print(f\"Drive Frequencies (GHz): Q{q0}={df0*1e-9:.4f}, Q{q1}={df1*1e-9:.4f}, Q{q2}={df2*1e-9:.4f}\")"
      ],
      "metadata": {
        "id": "sYhgfKTcPrY_",
        "outputId": "0a60a5ce-37a5-4ab2-fb64-76a283c2421c",
        "colab": {
          "base_uri": "https://localhost:8080/"
        }
      },
      "execution_count": 14,
      "outputs": [
        {
          "output_type": "stream",
          "name": "stdout",
          "text": [
            "Using physical qubits: q0 -> 1, q1 -> 2, q2 -> 3\n",
            "Drive Frequencies (GHz): Q1=4.7363, Q2=4.8192, Q3=4.7472\n"
          ]
        }
      ]
    }
  ]
}